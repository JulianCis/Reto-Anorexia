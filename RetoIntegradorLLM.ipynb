{
  "cells": [
    {
      "cell_type": "markdown",
      "metadata": {
        "id": "58-BHKM__Wve"
      },
      "source": [
        "# Introducción\n",
        "\n",
        "El modelo central utilizado en este proyecto es una Regresión Logística, entrenada con vectores derivados de texto limpio mediante técnicas de TF-IDF (Term Frequency–Inverse Document Frequency) y análisis de sentimiento. Antes de entrenar el modelo, se aplicó un pipeline que incluye limpieza, normalización, lematización y vectorización de los textos, seguido de la codificación de la variable objetivo.\n",
        "\n",
        "El objetivo del modelo es identificar publicaciones relacionadas con anorexia a partir de contenido escrito en redes sociales. Dado que se trata de un problema sensible en el ámbito de la salud mental, se seleccionaron cuidadosamente las métricas de evaluación, priorizando aquellas que aportan valor clínico y reducen los riesgos de error.\n",
        "\n",
        "Una de las métricas más importantes es el AUC (Área bajo la curva ROC), ya que evalúa la capacidad del modelo para distinguir entre clases positivas (anorexia) y negativas (control), sin verse afectada por el desbalance de clases. Es especialmente útil en contextos donde las consecuencias de un error pueden ser significativas.\n",
        "\n",
        "Además, se prioriza el recall, que indica cuántos de los casos realmente positivos fueron correctamente identificados por el modelo. En un problema como este, es esencial minimizar los falsos negativos, es decir, evitar que el sistema pase por alto casos reales de riesgo.\n",
        "\n",
        "Por otro lado, la precisión permite saber qué proporción de los casos que el modelo clasificó como \"anorexia\" realmente pertenecen a esa categoría. Esto es importante para evitar alarmas innecesarias.\n",
        "\n",
        "Finalmente, se consideró el F1 score como una métrica equilibrada que combina tanto la precisión como el recall, ofreciendo una visión más completa del desempeño general del modelo en la tarea de clasificación binaria."
      ]
    },
    {
      "cell_type": "markdown",
      "metadata": {
        "id": "_CGvVTGIRnLg"
      },
      "source": [
        "# Importación de Librerías"
      ]
    },
    {
      "cell_type": "code",
      "source": [
        "!pip install -U transformers"
      ],
      "metadata": {
        "colab": {
          "base_uri": "https://localhost:8080/"
        },
        "id": "_GvExHQBLl99",
        "outputId": "cb37024a-5351-4a2d-dccf-28f358fa7179"
      },
      "execution_count": 26,
      "outputs": [
        {
          "output_type": "stream",
          "name": "stdout",
          "text": [
            "Requirement already satisfied: transformers in /usr/local/lib/python3.11/dist-packages (4.52.4)\n",
            "Requirement already satisfied: filelock in /usr/local/lib/python3.11/dist-packages (from transformers) (3.18.0)\n",
            "Requirement already satisfied: huggingface-hub<1.0,>=0.30.0 in /usr/local/lib/python3.11/dist-packages (from transformers) (0.32.2)\n",
            "Requirement already satisfied: numpy>=1.17 in /usr/local/lib/python3.11/dist-packages (from transformers) (2.0.2)\n",
            "Requirement already satisfied: packaging>=20.0 in /usr/local/lib/python3.11/dist-packages (from transformers) (24.2)\n",
            "Requirement already satisfied: pyyaml>=5.1 in /usr/local/lib/python3.11/dist-packages (from transformers) (6.0.2)\n",
            "Requirement already satisfied: regex!=2019.12.17 in /usr/local/lib/python3.11/dist-packages (from transformers) (2024.11.6)\n",
            "Requirement already satisfied: requests in /usr/local/lib/python3.11/dist-packages (from transformers) (2.32.3)\n",
            "Requirement already satisfied: tokenizers<0.22,>=0.21 in /usr/local/lib/python3.11/dist-packages (from transformers) (0.21.1)\n",
            "Requirement already satisfied: safetensors>=0.4.3 in /usr/local/lib/python3.11/dist-packages (from transformers) (0.5.3)\n",
            "Requirement already satisfied: tqdm>=4.27 in /usr/local/lib/python3.11/dist-packages (from transformers) (4.67.1)\n",
            "Requirement already satisfied: fsspec>=2023.5.0 in /usr/local/lib/python3.11/dist-packages (from huggingface-hub<1.0,>=0.30.0->transformers) (2025.3.2)\n",
            "Requirement already satisfied: typing-extensions>=3.7.4.3 in /usr/local/lib/python3.11/dist-packages (from huggingface-hub<1.0,>=0.30.0->transformers) (4.13.2)\n",
            "Requirement already satisfied: hf-xet<2.0.0,>=1.1.2 in /usr/local/lib/python3.11/dist-packages (from huggingface-hub<1.0,>=0.30.0->transformers) (1.1.2)\n",
            "Requirement already satisfied: charset-normalizer<4,>=2 in /usr/local/lib/python3.11/dist-packages (from requests->transformers) (3.4.2)\n",
            "Requirement already satisfied: idna<4,>=2.5 in /usr/local/lib/python3.11/dist-packages (from requests->transformers) (3.10)\n",
            "Requirement already satisfied: urllib3<3,>=1.21.1 in /usr/local/lib/python3.11/dist-packages (from requests->transformers) (2.4.0)\n",
            "Requirement already satisfied: certifi>=2017.4.17 in /usr/local/lib/python3.11/dist-packages (from requests->transformers) (2025.4.26)\n"
          ]
        }
      ]
    },
    {
      "cell_type": "code",
      "execution_count": 27,
      "metadata": {
        "colab": {
          "base_uri": "https://localhost:8080/"
        },
        "id": "BW_qPTcL2rjE",
        "outputId": "1085473b-6db8-422c-f73a-0435f5503f0c"
      },
      "outputs": [
        {
          "output_type": "stream",
          "name": "stdout",
          "text": [
            "Requirement already satisfied: xgboost in /usr/local/lib/python3.11/dist-packages (2.1.4)\n",
            "Requirement already satisfied: numpy in /usr/local/lib/python3.11/dist-packages (from xgboost) (2.0.2)\n",
            "Requirement already satisfied: nvidia-nccl-cu12 in /usr/local/lib/python3.11/dist-packages (from xgboost) (2.21.5)\n",
            "Requirement already satisfied: scipy in /usr/local/lib/python3.11/dist-packages (from xgboost) (1.15.3)\n"
          ]
        }
      ],
      "source": [
        "!pip install xgboost"
      ]
    },
    {
      "cell_type": "code",
      "execution_count": 28,
      "metadata": {
        "id": "gIOdpanH3B5n"
      },
      "outputs": [],
      "source": [
        "import xgboost as xgb\n",
        "import pandas as pd\n",
        "import numpy as np\n",
        "from sklearn.linear_model import LogisticRegression as LR\n",
        "from sklearn.model_selection import train_test_split"
      ]
    },
    {
      "cell_type": "markdown",
      "metadata": {
        "id": "u2Ba-aEH9xns"
      },
      "source": [
        "# Exploración de información"
      ]
    },
    {
      "cell_type": "code",
      "execution_count": 29,
      "metadata": {
        "id": "NYcrXB-q3IsA"
      },
      "outputs": [],
      "source": [
        "data = pd.read_csv('data_train(in).csv')"
      ]
    },
    {
      "cell_type": "code",
      "execution_count": 30,
      "metadata": {
        "colab": {
          "base_uri": "https://localhost:8080/",
          "height": 206
        },
        "id": "N9eIiFii3M7p",
        "outputId": "ae066bd8-1c29-4913-a64b-b95dd6c7aa11"
      },
      "outputs": [
        {
          "output_type": "execute_result",
          "data": {
            "text/plain": [
              "       tweet_id                                         tweet_text     class\n",
              "0  0d3ed29586ce  Cheesecake saludable sin azúcar y sin lactosa ...   control\n",
              "1  c3cf897a495b               ser como ellas ♡♡\\n  #HastaLosHuesos  anorexia\n",
              "2  5041d85c45c6  Comida Real o , la clave para estar más sana, ...   control\n",
              "3  d18285d3c7ec  Entre el cambio de hora y la bajada de las #te...   control\n",
              "4  4d81892f3217     Hace mucho tiempo no sentía mi cuerpo tan frío  anorexia"
            ],
            "text/html": [
              "\n",
              "  <div id=\"df-7e3fbae1-3a28-4d62-8556-95cc60197b68\" class=\"colab-df-container\">\n",
              "    <div>\n",
              "<style scoped>\n",
              "    .dataframe tbody tr th:only-of-type {\n",
              "        vertical-align: middle;\n",
              "    }\n",
              "\n",
              "    .dataframe tbody tr th {\n",
              "        vertical-align: top;\n",
              "    }\n",
              "\n",
              "    .dataframe thead th {\n",
              "        text-align: right;\n",
              "    }\n",
              "</style>\n",
              "<table border=\"1\" class=\"dataframe\">\n",
              "  <thead>\n",
              "    <tr style=\"text-align: right;\">\n",
              "      <th></th>\n",
              "      <th>tweet_id</th>\n",
              "      <th>tweet_text</th>\n",
              "      <th>class</th>\n",
              "    </tr>\n",
              "  </thead>\n",
              "  <tbody>\n",
              "    <tr>\n",
              "      <th>0</th>\n",
              "      <td>0d3ed29586ce</td>\n",
              "      <td>Cheesecake saludable sin azúcar y sin lactosa ...</td>\n",
              "      <td>control</td>\n",
              "    </tr>\n",
              "    <tr>\n",
              "      <th>1</th>\n",
              "      <td>c3cf897a495b</td>\n",
              "      <td>ser como ellas ♡♡\\n  #HastaLosHuesos</td>\n",
              "      <td>anorexia</td>\n",
              "    </tr>\n",
              "    <tr>\n",
              "      <th>2</th>\n",
              "      <td>5041d85c45c6</td>\n",
              "      <td>Comida Real o , la clave para estar más sana, ...</td>\n",
              "      <td>control</td>\n",
              "    </tr>\n",
              "    <tr>\n",
              "      <th>3</th>\n",
              "      <td>d18285d3c7ec</td>\n",
              "      <td>Entre el cambio de hora y la bajada de las #te...</td>\n",
              "      <td>control</td>\n",
              "    </tr>\n",
              "    <tr>\n",
              "      <th>4</th>\n",
              "      <td>4d81892f3217</td>\n",
              "      <td>Hace mucho tiempo no sentía mi cuerpo tan frío</td>\n",
              "      <td>anorexia</td>\n",
              "    </tr>\n",
              "  </tbody>\n",
              "</table>\n",
              "</div>\n",
              "    <div class=\"colab-df-buttons\">\n",
              "\n",
              "  <div class=\"colab-df-container\">\n",
              "    <button class=\"colab-df-convert\" onclick=\"convertToInteractive('df-7e3fbae1-3a28-4d62-8556-95cc60197b68')\"\n",
              "            title=\"Convert this dataframe to an interactive table.\"\n",
              "            style=\"display:none;\">\n",
              "\n",
              "  <svg xmlns=\"http://www.w3.org/2000/svg\" height=\"24px\" viewBox=\"0 -960 960 960\">\n",
              "    <path d=\"M120-120v-720h720v720H120Zm60-500h600v-160H180v160Zm220 220h160v-160H400v160Zm0 220h160v-160H400v160ZM180-400h160v-160H180v160Zm440 0h160v-160H620v160ZM180-180h160v-160H180v160Zm440 0h160v-160H620v160Z\"/>\n",
              "  </svg>\n",
              "    </button>\n",
              "\n",
              "  <style>\n",
              "    .colab-df-container {\n",
              "      display:flex;\n",
              "      gap: 12px;\n",
              "    }\n",
              "\n",
              "    .colab-df-convert {\n",
              "      background-color: #E8F0FE;\n",
              "      border: none;\n",
              "      border-radius: 50%;\n",
              "      cursor: pointer;\n",
              "      display: none;\n",
              "      fill: #1967D2;\n",
              "      height: 32px;\n",
              "      padding: 0 0 0 0;\n",
              "      width: 32px;\n",
              "    }\n",
              "\n",
              "    .colab-df-convert:hover {\n",
              "      background-color: #E2EBFA;\n",
              "      box-shadow: 0px 1px 2px rgba(60, 64, 67, 0.3), 0px 1px 3px 1px rgba(60, 64, 67, 0.15);\n",
              "      fill: #174EA6;\n",
              "    }\n",
              "\n",
              "    .colab-df-buttons div {\n",
              "      margin-bottom: 4px;\n",
              "    }\n",
              "\n",
              "    [theme=dark] .colab-df-convert {\n",
              "      background-color: #3B4455;\n",
              "      fill: #D2E3FC;\n",
              "    }\n",
              "\n",
              "    [theme=dark] .colab-df-convert:hover {\n",
              "      background-color: #434B5C;\n",
              "      box-shadow: 0px 1px 3px 1px rgba(0, 0, 0, 0.15);\n",
              "      filter: drop-shadow(0px 1px 2px rgba(0, 0, 0, 0.3));\n",
              "      fill: #FFFFFF;\n",
              "    }\n",
              "  </style>\n",
              "\n",
              "    <script>\n",
              "      const buttonEl =\n",
              "        document.querySelector('#df-7e3fbae1-3a28-4d62-8556-95cc60197b68 button.colab-df-convert');\n",
              "      buttonEl.style.display =\n",
              "        google.colab.kernel.accessAllowed ? 'block' : 'none';\n",
              "\n",
              "      async function convertToInteractive(key) {\n",
              "        const element = document.querySelector('#df-7e3fbae1-3a28-4d62-8556-95cc60197b68');\n",
              "        const dataTable =\n",
              "          await google.colab.kernel.invokeFunction('convertToInteractive',\n",
              "                                                    [key], {});\n",
              "        if (!dataTable) return;\n",
              "\n",
              "        const docLinkHtml = 'Like what you see? Visit the ' +\n",
              "          '<a target=\"_blank\" href=https://colab.research.google.com/notebooks/data_table.ipynb>data table notebook</a>'\n",
              "          + ' to learn more about interactive tables.';\n",
              "        element.innerHTML = '';\n",
              "        dataTable['output_type'] = 'display_data';\n",
              "        await google.colab.output.renderOutput(dataTable, element);\n",
              "        const docLink = document.createElement('div');\n",
              "        docLink.innerHTML = docLinkHtml;\n",
              "        element.appendChild(docLink);\n",
              "      }\n",
              "    </script>\n",
              "  </div>\n",
              "\n",
              "\n",
              "    <div id=\"df-6e23bb9d-a8f8-4553-81ec-61b0ce014164\">\n",
              "      <button class=\"colab-df-quickchart\" onclick=\"quickchart('df-6e23bb9d-a8f8-4553-81ec-61b0ce014164')\"\n",
              "                title=\"Suggest charts\"\n",
              "                style=\"display:none;\">\n",
              "\n",
              "<svg xmlns=\"http://www.w3.org/2000/svg\" height=\"24px\"viewBox=\"0 0 24 24\"\n",
              "     width=\"24px\">\n",
              "    <g>\n",
              "        <path d=\"M19 3H5c-1.1 0-2 .9-2 2v14c0 1.1.9 2 2 2h14c1.1 0 2-.9 2-2V5c0-1.1-.9-2-2-2zM9 17H7v-7h2v7zm4 0h-2V7h2v10zm4 0h-2v-4h2v4z\"/>\n",
              "    </g>\n",
              "</svg>\n",
              "      </button>\n",
              "\n",
              "<style>\n",
              "  .colab-df-quickchart {\n",
              "      --bg-color: #E8F0FE;\n",
              "      --fill-color: #1967D2;\n",
              "      --hover-bg-color: #E2EBFA;\n",
              "      --hover-fill-color: #174EA6;\n",
              "      --disabled-fill-color: #AAA;\n",
              "      --disabled-bg-color: #DDD;\n",
              "  }\n",
              "\n",
              "  [theme=dark] .colab-df-quickchart {\n",
              "      --bg-color: #3B4455;\n",
              "      --fill-color: #D2E3FC;\n",
              "      --hover-bg-color: #434B5C;\n",
              "      --hover-fill-color: #FFFFFF;\n",
              "      --disabled-bg-color: #3B4455;\n",
              "      --disabled-fill-color: #666;\n",
              "  }\n",
              "\n",
              "  .colab-df-quickchart {\n",
              "    background-color: var(--bg-color);\n",
              "    border: none;\n",
              "    border-radius: 50%;\n",
              "    cursor: pointer;\n",
              "    display: none;\n",
              "    fill: var(--fill-color);\n",
              "    height: 32px;\n",
              "    padding: 0;\n",
              "    width: 32px;\n",
              "  }\n",
              "\n",
              "  .colab-df-quickchart:hover {\n",
              "    background-color: var(--hover-bg-color);\n",
              "    box-shadow: 0 1px 2px rgba(60, 64, 67, 0.3), 0 1px 3px 1px rgba(60, 64, 67, 0.15);\n",
              "    fill: var(--button-hover-fill-color);\n",
              "  }\n",
              "\n",
              "  .colab-df-quickchart-complete:disabled,\n",
              "  .colab-df-quickchart-complete:disabled:hover {\n",
              "    background-color: var(--disabled-bg-color);\n",
              "    fill: var(--disabled-fill-color);\n",
              "    box-shadow: none;\n",
              "  }\n",
              "\n",
              "  .colab-df-spinner {\n",
              "    border: 2px solid var(--fill-color);\n",
              "    border-color: transparent;\n",
              "    border-bottom-color: var(--fill-color);\n",
              "    animation:\n",
              "      spin 1s steps(1) infinite;\n",
              "  }\n",
              "\n",
              "  @keyframes spin {\n",
              "    0% {\n",
              "      border-color: transparent;\n",
              "      border-bottom-color: var(--fill-color);\n",
              "      border-left-color: var(--fill-color);\n",
              "    }\n",
              "    20% {\n",
              "      border-color: transparent;\n",
              "      border-left-color: var(--fill-color);\n",
              "      border-top-color: var(--fill-color);\n",
              "    }\n",
              "    30% {\n",
              "      border-color: transparent;\n",
              "      border-left-color: var(--fill-color);\n",
              "      border-top-color: var(--fill-color);\n",
              "      border-right-color: var(--fill-color);\n",
              "    }\n",
              "    40% {\n",
              "      border-color: transparent;\n",
              "      border-right-color: var(--fill-color);\n",
              "      border-top-color: var(--fill-color);\n",
              "    }\n",
              "    60% {\n",
              "      border-color: transparent;\n",
              "      border-right-color: var(--fill-color);\n",
              "    }\n",
              "    80% {\n",
              "      border-color: transparent;\n",
              "      border-right-color: var(--fill-color);\n",
              "      border-bottom-color: var(--fill-color);\n",
              "    }\n",
              "    90% {\n",
              "      border-color: transparent;\n",
              "      border-bottom-color: var(--fill-color);\n",
              "    }\n",
              "  }\n",
              "</style>\n",
              "\n",
              "      <script>\n",
              "        async function quickchart(key) {\n",
              "          const quickchartButtonEl =\n",
              "            document.querySelector('#' + key + ' button');\n",
              "          quickchartButtonEl.disabled = true;  // To prevent multiple clicks.\n",
              "          quickchartButtonEl.classList.add('colab-df-spinner');\n",
              "          try {\n",
              "            const charts = await google.colab.kernel.invokeFunction(\n",
              "                'suggestCharts', [key], {});\n",
              "          } catch (error) {\n",
              "            console.error('Error during call to suggestCharts:', error);\n",
              "          }\n",
              "          quickchartButtonEl.classList.remove('colab-df-spinner');\n",
              "          quickchartButtonEl.classList.add('colab-df-quickchart-complete');\n",
              "        }\n",
              "        (() => {\n",
              "          let quickchartButtonEl =\n",
              "            document.querySelector('#df-6e23bb9d-a8f8-4553-81ec-61b0ce014164 button');\n",
              "          quickchartButtonEl.style.display =\n",
              "            google.colab.kernel.accessAllowed ? 'block' : 'none';\n",
              "        })();\n",
              "      </script>\n",
              "    </div>\n",
              "\n",
              "    </div>\n",
              "  </div>\n"
            ],
            "application/vnd.google.colaboratory.intrinsic+json": {
              "type": "dataframe",
              "variable_name": "data",
              "summary": "{\n  \"name\": \"data\",\n  \"rows\": 1500,\n  \"fields\": [\n    {\n      \"column\": \"tweet_id\",\n      \"properties\": {\n        \"dtype\": \"string\",\n        \"num_unique_values\": 1500,\n        \"samples\": [\n          \"11ce972fa21d\",\n          \"61c99a923d29\",\n          \"7a088fcb499d\"\n        ],\n        \"semantic_type\": \"\",\n        \"description\": \"\"\n      }\n    },\n    {\n      \"column\": \"tweet_text\",\n      \"properties\": {\n        \"dtype\": \"string\",\n        \"num_unique_values\": 1500,\n        \"samples\": [\n          \"\\\"Es el nuevo gur\\u00fa de las top models, \\u00bfsabes por qu\\u00e9? Porque si sigues sus pautas conseguir\\u00e1s una silueta esbelta y fuerte en dos semanas\\\". @cuore recomienda \\\"El m\\u00e9todo Sakuma\\\", de Kenichi Sakuma, el \\u00faltimo \\\"bestseller\\\" que viene de Jap\\u00f3n. \\nhttps://bit.ly/2T8ZNij\",\n          \"Lo que necesitas para comenzar.  #Motivaci\\u00f3n\",\n          \"Festivo: d\\u00eda en el que puedes entrenar, irte a pasear e incluso de senderismo acompa\\u00f1ado a ser posible y con comida saludable.\\n\\nNo excusas. Si oportunidades.\\n\\n#Sevillahoy #Salud #SaludyBienestar #saludable  #Nutrici\\u00f3n #fitnessaddict #fitnesslife\"\n        ],\n        \"semantic_type\": \"\",\n        \"description\": \"\"\n      }\n    },\n    {\n      \"column\": \"class\",\n      \"properties\": {\n        \"dtype\": \"category\",\n        \"num_unique_values\": 2,\n        \"samples\": [\n          \"anorexia\",\n          \"control\"\n        ],\n        \"semantic_type\": \"\",\n        \"description\": \"\"\n      }\n    }\n  ]\n}"
            }
          },
          "metadata": {},
          "execution_count": 30
        }
      ],
      "source": [
        "data.head()"
      ]
    },
    {
      "cell_type": "code",
      "execution_count": 31,
      "metadata": {
        "colab": {
          "base_uri": "https://localhost:8080/",
          "height": 507
        },
        "id": "bUae-pjgI95A",
        "outputId": "de167d55-7159-43e7-bb47-14e8e43bec8d"
      },
      "outputs": [
        {
          "output_type": "execute_result",
          "data": {
            "text/plain": [
              "tweet_text\n",
              "1er día\\n* Dos latas de coca cola light \\n* Litro & medio de agua pura\\n* Tres tazas de té sin azúcar...\\n\\n #ayuno #Ana #Princesa                                                                                                                                                     1\n",
              "Cheesecake saludable sin azúcar y sin lactosa  con mermerlada casera de moras                                                                                                                                                                                                          1\n",
              "ser como ellas ♡♡\\n  #HastaLosHuesos                                                                                                                                                                                                                                                   1\n",
              "Comida Real o , la clave para estar más sana, delgada y feliz \\n\\nhttps://www.modalia.es/estilo-de-vida/15192-comida-real-o-real-food-la-clave-para-estar-mas-sana-delgada-y-feliz.html …                                                                                              1\n",
              "Entre el cambio de hora y la bajada de las #temperaturas  estamos destemplados, por eso os recomendamos un buen plato de #fabada #casera  para entonar el cuerpo   #decasa #platoscuchara  #madridrio #gastro #arganzuela                                                              1\n",
              "                                                                                                                                                                                                                                                                                      ..\n",
              "Cambiar la comida por el alcohol                                                                                                                                                                                                                                                       1\n",
              "Norex Anfepromona un potente medicamento para dejar de comer en exceso\\nADELGAZA SIN HAMBRE\\n#TusClásicos #SabadoDeGanarSeguidores #EsPuenteYTodos #bellezasuperior\\n#TwitterBestFandom\\n#SoompiAwards\\n#ConvoyVL19\\n#20anosVL19 #Tampico #Dieta #Obesidad #Madero #Tamaulipas #Fit    1\n",
              "Los huesos que se me notan, son la copa, la medalla, por haberte ganado la batalla.\\n.                                                                                                                                                                                                 1\n",
              "Estoy cansada de estar pérdida.   #Anorexia #Bulimia                                                                                                                                                                                                                                   1\n",
              "Estoy como para saltearme el almuerzo                                                                                                                                                                                                                                                  1\n",
              "Name: count, Length: 1500, dtype: int64"
            ],
            "text/html": [
              "<div>\n",
              "<style scoped>\n",
              "    .dataframe tbody tr th:only-of-type {\n",
              "        vertical-align: middle;\n",
              "    }\n",
              "\n",
              "    .dataframe tbody tr th {\n",
              "        vertical-align: top;\n",
              "    }\n",
              "\n",
              "    .dataframe thead th {\n",
              "        text-align: right;\n",
              "    }\n",
              "</style>\n",
              "<table border=\"1\" class=\"dataframe\">\n",
              "  <thead>\n",
              "    <tr style=\"text-align: right;\">\n",
              "      <th></th>\n",
              "      <th>count</th>\n",
              "    </tr>\n",
              "    <tr>\n",
              "      <th>tweet_text</th>\n",
              "      <th></th>\n",
              "    </tr>\n",
              "  </thead>\n",
              "  <tbody>\n",
              "    <tr>\n",
              "      <th>1er día\\n* Dos latas de coca cola light \\n* Litro &amp; medio de agua pura\\n* Tres tazas de té sin azúcar...\\n\\n #ayuno #Ana #Princesa</th>\n",
              "      <td>1</td>\n",
              "    </tr>\n",
              "    <tr>\n",
              "      <th>Cheesecake saludable sin azúcar y sin lactosa  con mermerlada casera de moras</th>\n",
              "      <td>1</td>\n",
              "    </tr>\n",
              "    <tr>\n",
              "      <th>ser como ellas ♡♡\\n  #HastaLosHuesos</th>\n",
              "      <td>1</td>\n",
              "    </tr>\n",
              "    <tr>\n",
              "      <th>Comida Real o , la clave para estar más sana, delgada y feliz \\n\\nhttps://www.modalia.es/estilo-de-vida/15192-comida-real-o-real-food-la-clave-para-estar-mas-sana-delgada-y-feliz.html …</th>\n",
              "      <td>1</td>\n",
              "    </tr>\n",
              "    <tr>\n",
              "      <th>Entre el cambio de hora y la bajada de las #temperaturas  estamos destemplados, por eso os recomendamos un buen plato de #fabada #casera  para entonar el cuerpo   #decasa #platoscuchara  #madridrio #gastro #arganzuela</th>\n",
              "      <td>1</td>\n",
              "    </tr>\n",
              "    <tr>\n",
              "      <th>...</th>\n",
              "      <td>...</td>\n",
              "    </tr>\n",
              "    <tr>\n",
              "      <th>Cambiar la comida por el alcohol</th>\n",
              "      <td>1</td>\n",
              "    </tr>\n",
              "    <tr>\n",
              "      <th>Norex Anfepromona un potente medicamento para dejar de comer en exceso\\nADELGAZA SIN HAMBRE\\n#TusClásicos #SabadoDeGanarSeguidores #EsPuenteYTodos #bellezasuperior\\n#TwitterBestFandom\\n#SoompiAwards\\n#ConvoyVL19\\n#20anosVL19 #Tampico #Dieta #Obesidad #Madero #Tamaulipas #Fit</th>\n",
              "      <td>1</td>\n",
              "    </tr>\n",
              "    <tr>\n",
              "      <th>Los huesos que se me notan, son la copa, la medalla, por haberte ganado la batalla.\\n.</th>\n",
              "      <td>1</td>\n",
              "    </tr>\n",
              "    <tr>\n",
              "      <th>Estoy cansada de estar pérdida.   #Anorexia #Bulimia</th>\n",
              "      <td>1</td>\n",
              "    </tr>\n",
              "    <tr>\n",
              "      <th>Estoy como para saltearme el almuerzo</th>\n",
              "      <td>1</td>\n",
              "    </tr>\n",
              "  </tbody>\n",
              "</table>\n",
              "<p>1500 rows × 1 columns</p>\n",
              "</div><br><label><b>dtype:</b> int64</label>"
            ]
          },
          "metadata": {},
          "execution_count": 31
        }
      ],
      "source": [
        "data.tweet_text.value_counts()"
      ]
    },
    {
      "cell_type": "markdown",
      "metadata": {
        "id": "FkYnKaIy-TyF"
      },
      "source": [
        "# Limpieza de datos"
      ]
    },
    {
      "cell_type": "code",
      "execution_count": 32,
      "metadata": {
        "id": "9FfwYQW-43WX"
      },
      "outputs": [],
      "source": [
        "import re\n",
        "import nltk\n",
        "from nltk.corpus import stopwords\n",
        "from nltk.stem import SnowballStemmer"
      ]
    },
    {
      "cell_type": "code",
      "execution_count": 33,
      "metadata": {
        "colab": {
          "base_uri": "https://localhost:8080/"
        },
        "id": "YFFR1tyO8gVR",
        "outputId": "d6f802ce-7c9b-432d-9881-a02de56f4353"
      },
      "outputs": [
        {
          "output_type": "stream",
          "name": "stdout",
          "text": [
            "Collecting es-core-news-sm==3.8.0\n",
            "  Downloading https://github.com/explosion/spacy-models/releases/download/es_core_news_sm-3.8.0/es_core_news_sm-3.8.0-py3-none-any.whl (12.9 MB)\n",
            "\u001b[2K     \u001b[90m━━━━━━━━━━━━━━━━━━━━━━━━━━━━━━━━━━━━━━━━\u001b[0m \u001b[32m12.9/12.9 MB\u001b[0m \u001b[31m17.8 MB/s\u001b[0m eta \u001b[36m0:00:00\u001b[0m\n",
            "\u001b[?25h\u001b[38;5;2m✔ Download and installation successful\u001b[0m\n",
            "You can now load the package via spacy.load('es_core_news_sm')\n",
            "\u001b[38;5;3m⚠ Restart to reload dependencies\u001b[0m\n",
            "If you are in a Jupyter or Colab notebook, you may need to restart Python in\n",
            "order to load all the package's dependencies. You can do this by selecting the\n",
            "'Restart kernel' or 'Restart runtime' option.\n"
          ]
        }
      ],
      "source": [
        "!python -m spacy download es_core_news_sm\n"
      ]
    },
    {
      "cell_type": "code",
      "execution_count": 34,
      "metadata": {
        "id": "N4pq1ABC8QdT"
      },
      "outputs": [],
      "source": [
        "import spacy\n",
        "\n",
        "nlp = spacy.load('es_core_news_sm')\n",
        "\n",
        "def clean_text_lemmatization(text):\n",
        "    \"\"\"\n",
        "    Funciona que limpia y lematiza un texto en español aplicando los siguientes pasos:\n",
        "\n",
        "    1. Convierte el texto a minúsculas\n",
        "    2. Elimina URLs (http, https, www)\n",
        "    3. Quita el símbolo '#'\n",
        "    4. Elimina caracteres especiales\n",
        "    5. Elimina espacios duplicados\n",
        "    6. Aplica lematización con spaCy y remueve stopwords\n",
        "\n",
        "    Parámetros:\n",
        "        text (str): Texto original a procesar.\n",
        "\n",
        "    Retorna:\n",
        "        str: Texto limpio y lematizado, separado por espacios.\n",
        "    \"\"\"\n",
        "    text = str(text).lower()\n",
        "    text = re.sub(r\"http\\S+|www\\S+|https\\S+\", '', text)\n",
        "    text = re.sub(r\"#(\\w+)\", r\"\\1\", text)\n",
        "    text = re.sub(r\"[^a-záéíóúñü\\s]\", '', text)\n",
        "    text = re.sub(r\"\\s+\", ' ', text).strip()\n",
        "\n",
        "    doc = nlp(text)\n",
        "    lemmatized_tokens = [\n",
        "        token.lemma_ for token in doc if not token.is_stop\n",
        "    ]\n",
        "\n",
        "    return ' '.join(lemmatized_tokens)\n",
        "\n",
        "data['clean_text_lemma'] = data['tweet_text'].apply(clean_text_lemmatization)\n"
      ]
    },
    {
      "cell_type": "code",
      "execution_count": 35,
      "metadata": {
        "colab": {
          "base_uri": "https://localhost:8080/",
          "height": 206
        },
        "id": "dDfb_Nhr8Tvi",
        "outputId": "63474909-218c-4d24-8854-ba90bece17da"
      },
      "outputs": [
        {
          "output_type": "execute_result",
          "data": {
            "text/plain": [
              "       tweet_id                                         tweet_text     class  \\\n",
              "0  0d3ed29586ce  Cheesecake saludable sin azúcar y sin lactosa ...   control   \n",
              "1  c3cf897a495b               ser como ellas ♡♡\\n  #HastaLosHuesos  anorexia   \n",
              "2  5041d85c45c6  Comida Real o , la clave para estar más sana, ...   control   \n",
              "3  d18285d3c7ec  Entre el cambio de hora y la bajada de las #te...   control   \n",
              "4  4d81892f3217     Hace mucho tiempo no sentía mi cuerpo tan frío  anorexia   \n",
              "\n",
              "                                    clean_text_lemma  \n",
              "0  cheesecakir saludable azúcar lactosa mermerlad...  \n",
              "1                                      hastaloshueso  \n",
              "2               comida real clave sano delgado feliz  \n",
              "3  cambio hora bajada temperatura destemplado rec...  \n",
              "4                          tiempo sentir cuerpo frío  "
            ],
            "text/html": [
              "\n",
              "  <div id=\"df-6beb469a-cbc4-4768-bd85-a3a8336c084a\" class=\"colab-df-container\">\n",
              "    <div>\n",
              "<style scoped>\n",
              "    .dataframe tbody tr th:only-of-type {\n",
              "        vertical-align: middle;\n",
              "    }\n",
              "\n",
              "    .dataframe tbody tr th {\n",
              "        vertical-align: top;\n",
              "    }\n",
              "\n",
              "    .dataframe thead th {\n",
              "        text-align: right;\n",
              "    }\n",
              "</style>\n",
              "<table border=\"1\" class=\"dataframe\">\n",
              "  <thead>\n",
              "    <tr style=\"text-align: right;\">\n",
              "      <th></th>\n",
              "      <th>tweet_id</th>\n",
              "      <th>tweet_text</th>\n",
              "      <th>class</th>\n",
              "      <th>clean_text_lemma</th>\n",
              "    </tr>\n",
              "  </thead>\n",
              "  <tbody>\n",
              "    <tr>\n",
              "      <th>0</th>\n",
              "      <td>0d3ed29586ce</td>\n",
              "      <td>Cheesecake saludable sin azúcar y sin lactosa ...</td>\n",
              "      <td>control</td>\n",
              "      <td>cheesecakir saludable azúcar lactosa mermerlad...</td>\n",
              "    </tr>\n",
              "    <tr>\n",
              "      <th>1</th>\n",
              "      <td>c3cf897a495b</td>\n",
              "      <td>ser como ellas ♡♡\\n  #HastaLosHuesos</td>\n",
              "      <td>anorexia</td>\n",
              "      <td>hastaloshueso</td>\n",
              "    </tr>\n",
              "    <tr>\n",
              "      <th>2</th>\n",
              "      <td>5041d85c45c6</td>\n",
              "      <td>Comida Real o , la clave para estar más sana, ...</td>\n",
              "      <td>control</td>\n",
              "      <td>comida real clave sano delgado feliz</td>\n",
              "    </tr>\n",
              "    <tr>\n",
              "      <th>3</th>\n",
              "      <td>d18285d3c7ec</td>\n",
              "      <td>Entre el cambio de hora y la bajada de las #te...</td>\n",
              "      <td>control</td>\n",
              "      <td>cambio hora bajada temperatura destemplado rec...</td>\n",
              "    </tr>\n",
              "    <tr>\n",
              "      <th>4</th>\n",
              "      <td>4d81892f3217</td>\n",
              "      <td>Hace mucho tiempo no sentía mi cuerpo tan frío</td>\n",
              "      <td>anorexia</td>\n",
              "      <td>tiempo sentir cuerpo frío</td>\n",
              "    </tr>\n",
              "  </tbody>\n",
              "</table>\n",
              "</div>\n",
              "    <div class=\"colab-df-buttons\">\n",
              "\n",
              "  <div class=\"colab-df-container\">\n",
              "    <button class=\"colab-df-convert\" onclick=\"convertToInteractive('df-6beb469a-cbc4-4768-bd85-a3a8336c084a')\"\n",
              "            title=\"Convert this dataframe to an interactive table.\"\n",
              "            style=\"display:none;\">\n",
              "\n",
              "  <svg xmlns=\"http://www.w3.org/2000/svg\" height=\"24px\" viewBox=\"0 -960 960 960\">\n",
              "    <path d=\"M120-120v-720h720v720H120Zm60-500h600v-160H180v160Zm220 220h160v-160H400v160Zm0 220h160v-160H400v160ZM180-400h160v-160H180v160Zm440 0h160v-160H620v160ZM180-180h160v-160H180v160Zm440 0h160v-160H620v160Z\"/>\n",
              "  </svg>\n",
              "    </button>\n",
              "\n",
              "  <style>\n",
              "    .colab-df-container {\n",
              "      display:flex;\n",
              "      gap: 12px;\n",
              "    }\n",
              "\n",
              "    .colab-df-convert {\n",
              "      background-color: #E8F0FE;\n",
              "      border: none;\n",
              "      border-radius: 50%;\n",
              "      cursor: pointer;\n",
              "      display: none;\n",
              "      fill: #1967D2;\n",
              "      height: 32px;\n",
              "      padding: 0 0 0 0;\n",
              "      width: 32px;\n",
              "    }\n",
              "\n",
              "    .colab-df-convert:hover {\n",
              "      background-color: #E2EBFA;\n",
              "      box-shadow: 0px 1px 2px rgba(60, 64, 67, 0.3), 0px 1px 3px 1px rgba(60, 64, 67, 0.15);\n",
              "      fill: #174EA6;\n",
              "    }\n",
              "\n",
              "    .colab-df-buttons div {\n",
              "      margin-bottom: 4px;\n",
              "    }\n",
              "\n",
              "    [theme=dark] .colab-df-convert {\n",
              "      background-color: #3B4455;\n",
              "      fill: #D2E3FC;\n",
              "    }\n",
              "\n",
              "    [theme=dark] .colab-df-convert:hover {\n",
              "      background-color: #434B5C;\n",
              "      box-shadow: 0px 1px 3px 1px rgba(0, 0, 0, 0.15);\n",
              "      filter: drop-shadow(0px 1px 2px rgba(0, 0, 0, 0.3));\n",
              "      fill: #FFFFFF;\n",
              "    }\n",
              "  </style>\n",
              "\n",
              "    <script>\n",
              "      const buttonEl =\n",
              "        document.querySelector('#df-6beb469a-cbc4-4768-bd85-a3a8336c084a button.colab-df-convert');\n",
              "      buttonEl.style.display =\n",
              "        google.colab.kernel.accessAllowed ? 'block' : 'none';\n",
              "\n",
              "      async function convertToInteractive(key) {\n",
              "        const element = document.querySelector('#df-6beb469a-cbc4-4768-bd85-a3a8336c084a');\n",
              "        const dataTable =\n",
              "          await google.colab.kernel.invokeFunction('convertToInteractive',\n",
              "                                                    [key], {});\n",
              "        if (!dataTable) return;\n",
              "\n",
              "        const docLinkHtml = 'Like what you see? Visit the ' +\n",
              "          '<a target=\"_blank\" href=https://colab.research.google.com/notebooks/data_table.ipynb>data table notebook</a>'\n",
              "          + ' to learn more about interactive tables.';\n",
              "        element.innerHTML = '';\n",
              "        dataTable['output_type'] = 'display_data';\n",
              "        await google.colab.output.renderOutput(dataTable, element);\n",
              "        const docLink = document.createElement('div');\n",
              "        docLink.innerHTML = docLinkHtml;\n",
              "        element.appendChild(docLink);\n",
              "      }\n",
              "    </script>\n",
              "  </div>\n",
              "\n",
              "\n",
              "    <div id=\"df-41381631-db87-4ce6-b504-7e757a619043\">\n",
              "      <button class=\"colab-df-quickchart\" onclick=\"quickchart('df-41381631-db87-4ce6-b504-7e757a619043')\"\n",
              "                title=\"Suggest charts\"\n",
              "                style=\"display:none;\">\n",
              "\n",
              "<svg xmlns=\"http://www.w3.org/2000/svg\" height=\"24px\"viewBox=\"0 0 24 24\"\n",
              "     width=\"24px\">\n",
              "    <g>\n",
              "        <path d=\"M19 3H5c-1.1 0-2 .9-2 2v14c0 1.1.9 2 2 2h14c1.1 0 2-.9 2-2V5c0-1.1-.9-2-2-2zM9 17H7v-7h2v7zm4 0h-2V7h2v10zm4 0h-2v-4h2v4z\"/>\n",
              "    </g>\n",
              "</svg>\n",
              "      </button>\n",
              "\n",
              "<style>\n",
              "  .colab-df-quickchart {\n",
              "      --bg-color: #E8F0FE;\n",
              "      --fill-color: #1967D2;\n",
              "      --hover-bg-color: #E2EBFA;\n",
              "      --hover-fill-color: #174EA6;\n",
              "      --disabled-fill-color: #AAA;\n",
              "      --disabled-bg-color: #DDD;\n",
              "  }\n",
              "\n",
              "  [theme=dark] .colab-df-quickchart {\n",
              "      --bg-color: #3B4455;\n",
              "      --fill-color: #D2E3FC;\n",
              "      --hover-bg-color: #434B5C;\n",
              "      --hover-fill-color: #FFFFFF;\n",
              "      --disabled-bg-color: #3B4455;\n",
              "      --disabled-fill-color: #666;\n",
              "  }\n",
              "\n",
              "  .colab-df-quickchart {\n",
              "    background-color: var(--bg-color);\n",
              "    border: none;\n",
              "    border-radius: 50%;\n",
              "    cursor: pointer;\n",
              "    display: none;\n",
              "    fill: var(--fill-color);\n",
              "    height: 32px;\n",
              "    padding: 0;\n",
              "    width: 32px;\n",
              "  }\n",
              "\n",
              "  .colab-df-quickchart:hover {\n",
              "    background-color: var(--hover-bg-color);\n",
              "    box-shadow: 0 1px 2px rgba(60, 64, 67, 0.3), 0 1px 3px 1px rgba(60, 64, 67, 0.15);\n",
              "    fill: var(--button-hover-fill-color);\n",
              "  }\n",
              "\n",
              "  .colab-df-quickchart-complete:disabled,\n",
              "  .colab-df-quickchart-complete:disabled:hover {\n",
              "    background-color: var(--disabled-bg-color);\n",
              "    fill: var(--disabled-fill-color);\n",
              "    box-shadow: none;\n",
              "  }\n",
              "\n",
              "  .colab-df-spinner {\n",
              "    border: 2px solid var(--fill-color);\n",
              "    border-color: transparent;\n",
              "    border-bottom-color: var(--fill-color);\n",
              "    animation:\n",
              "      spin 1s steps(1) infinite;\n",
              "  }\n",
              "\n",
              "  @keyframes spin {\n",
              "    0% {\n",
              "      border-color: transparent;\n",
              "      border-bottom-color: var(--fill-color);\n",
              "      border-left-color: var(--fill-color);\n",
              "    }\n",
              "    20% {\n",
              "      border-color: transparent;\n",
              "      border-left-color: var(--fill-color);\n",
              "      border-top-color: var(--fill-color);\n",
              "    }\n",
              "    30% {\n",
              "      border-color: transparent;\n",
              "      border-left-color: var(--fill-color);\n",
              "      border-top-color: var(--fill-color);\n",
              "      border-right-color: var(--fill-color);\n",
              "    }\n",
              "    40% {\n",
              "      border-color: transparent;\n",
              "      border-right-color: var(--fill-color);\n",
              "      border-top-color: var(--fill-color);\n",
              "    }\n",
              "    60% {\n",
              "      border-color: transparent;\n",
              "      border-right-color: var(--fill-color);\n",
              "    }\n",
              "    80% {\n",
              "      border-color: transparent;\n",
              "      border-right-color: var(--fill-color);\n",
              "      border-bottom-color: var(--fill-color);\n",
              "    }\n",
              "    90% {\n",
              "      border-color: transparent;\n",
              "      border-bottom-color: var(--fill-color);\n",
              "    }\n",
              "  }\n",
              "</style>\n",
              "\n",
              "      <script>\n",
              "        async function quickchart(key) {\n",
              "          const quickchartButtonEl =\n",
              "            document.querySelector('#' + key + ' button');\n",
              "          quickchartButtonEl.disabled = true;  // To prevent multiple clicks.\n",
              "          quickchartButtonEl.classList.add('colab-df-spinner');\n",
              "          try {\n",
              "            const charts = await google.colab.kernel.invokeFunction(\n",
              "                'suggestCharts', [key], {});\n",
              "          } catch (error) {\n",
              "            console.error('Error during call to suggestCharts:', error);\n",
              "          }\n",
              "          quickchartButtonEl.classList.remove('colab-df-spinner');\n",
              "          quickchartButtonEl.classList.add('colab-df-quickchart-complete');\n",
              "        }\n",
              "        (() => {\n",
              "          let quickchartButtonEl =\n",
              "            document.querySelector('#df-41381631-db87-4ce6-b504-7e757a619043 button');\n",
              "          quickchartButtonEl.style.display =\n",
              "            google.colab.kernel.accessAllowed ? 'block' : 'none';\n",
              "        })();\n",
              "      </script>\n",
              "    </div>\n",
              "\n",
              "    </div>\n",
              "  </div>\n"
            ],
            "application/vnd.google.colaboratory.intrinsic+json": {
              "type": "dataframe",
              "variable_name": "data",
              "summary": "{\n  \"name\": \"data\",\n  \"rows\": 1500,\n  \"fields\": [\n    {\n      \"column\": \"tweet_id\",\n      \"properties\": {\n        \"dtype\": \"string\",\n        \"num_unique_values\": 1500,\n        \"samples\": [\n          \"11ce972fa21d\",\n          \"61c99a923d29\",\n          \"7a088fcb499d\"\n        ],\n        \"semantic_type\": \"\",\n        \"description\": \"\"\n      }\n    },\n    {\n      \"column\": \"tweet_text\",\n      \"properties\": {\n        \"dtype\": \"string\",\n        \"num_unique_values\": 1500,\n        \"samples\": [\n          \"\\\"Es el nuevo gur\\u00fa de las top models, \\u00bfsabes por qu\\u00e9? Porque si sigues sus pautas conseguir\\u00e1s una silueta esbelta y fuerte en dos semanas\\\". @cuore recomienda \\\"El m\\u00e9todo Sakuma\\\", de Kenichi Sakuma, el \\u00faltimo \\\"bestseller\\\" que viene de Jap\\u00f3n. \\nhttps://bit.ly/2T8ZNij\",\n          \"Lo que necesitas para comenzar.  #Motivaci\\u00f3n\",\n          \"Festivo: d\\u00eda en el que puedes entrenar, irte a pasear e incluso de senderismo acompa\\u00f1ado a ser posible y con comida saludable.\\n\\nNo excusas. Si oportunidades.\\n\\n#Sevillahoy #Salud #SaludyBienestar #saludable  #Nutrici\\u00f3n #fitnessaddict #fitnesslife\"\n        ],\n        \"semantic_type\": \"\",\n        \"description\": \"\"\n      }\n    },\n    {\n      \"column\": \"class\",\n      \"properties\": {\n        \"dtype\": \"category\",\n        \"num_unique_values\": 2,\n        \"samples\": [\n          \"anorexia\",\n          \"control\"\n        ],\n        \"semantic_type\": \"\",\n        \"description\": \"\"\n      }\n    },\n    {\n      \"column\": \"clean_text_lemma\",\n      \"properties\": {\n        \"dtype\": \"string\",\n        \"num_unique_values\": 1497,\n        \"samples\": [\n          \"tratar espacio gordo muslo \\u00e1n\",\n          \"jugar vida trastorno alimenticio enfermedad ser\\u00eda entra c\\u00edrculo dif\\u00edcil escapar tca ed quierete\"\n        ],\n        \"semantic_type\": \"\",\n        \"description\": \"\"\n      }\n    }\n  ]\n}"
            }
          },
          "metadata": {},
          "execution_count": 35
        }
      ],
      "source": [
        "data.head()"
      ]
    },
    {
      "cell_type": "code",
      "execution_count": 36,
      "metadata": {
        "id": "R00ib9NC-9VJ"
      },
      "outputs": [],
      "source": [
        "X_text = data['clean_text_lemma']\n"
      ]
    },
    {
      "cell_type": "code",
      "execution_count": 37,
      "metadata": {
        "colab": {
          "base_uri": "https://localhost:8080/",
          "height": 458
        },
        "id": "UWzRBY64--zf",
        "outputId": "c7920a55-7f1a-4157-e501-d200ea4bf7fa"
      },
      "outputs": [
        {
          "output_type": "execute_result",
          "data": {
            "text/plain": [
              "0       cheesecakir saludable azúcar lactosa mermerlad...\n",
              "1                                           hastaloshueso\n",
              "2                    comida real clave sano delgado feliz\n",
              "3       cambio hora bajada temperatura destemplado rec...\n",
              "4                               tiempo sentir cuerpo frío\n",
              "                              ...                        \n",
              "1495              desayuno sano ricocomidasán metodohappy\n",
              "1496    perfección sábado án abandona thinspo thinspir...\n",
              "1497    comer devolver caloría tengoundeseoyes perfeccion\n",
              "1498    entender seguir soltero cocino masterchef demi...\n",
              "1499    er lata coca cola light litro agua puro taza t...\n",
              "Name: clean_text_lemma, Length: 1500, dtype: object"
            ],
            "text/html": [
              "<div>\n",
              "<style scoped>\n",
              "    .dataframe tbody tr th:only-of-type {\n",
              "        vertical-align: middle;\n",
              "    }\n",
              "\n",
              "    .dataframe tbody tr th {\n",
              "        vertical-align: top;\n",
              "    }\n",
              "\n",
              "    .dataframe thead th {\n",
              "        text-align: right;\n",
              "    }\n",
              "</style>\n",
              "<table border=\"1\" class=\"dataframe\">\n",
              "  <thead>\n",
              "    <tr style=\"text-align: right;\">\n",
              "      <th></th>\n",
              "      <th>clean_text_lemma</th>\n",
              "    </tr>\n",
              "  </thead>\n",
              "  <tbody>\n",
              "    <tr>\n",
              "      <th>0</th>\n",
              "      <td>cheesecakir saludable azúcar lactosa mermerlad...</td>\n",
              "    </tr>\n",
              "    <tr>\n",
              "      <th>1</th>\n",
              "      <td>hastaloshueso</td>\n",
              "    </tr>\n",
              "    <tr>\n",
              "      <th>2</th>\n",
              "      <td>comida real clave sano delgado feliz</td>\n",
              "    </tr>\n",
              "    <tr>\n",
              "      <th>3</th>\n",
              "      <td>cambio hora bajada temperatura destemplado rec...</td>\n",
              "    </tr>\n",
              "    <tr>\n",
              "      <th>4</th>\n",
              "      <td>tiempo sentir cuerpo frío</td>\n",
              "    </tr>\n",
              "    <tr>\n",
              "      <th>...</th>\n",
              "      <td>...</td>\n",
              "    </tr>\n",
              "    <tr>\n",
              "      <th>1495</th>\n",
              "      <td>desayuno sano ricocomidasán metodohappy</td>\n",
              "    </tr>\n",
              "    <tr>\n",
              "      <th>1496</th>\n",
              "      <td>perfección sábado án abandona thinspo thinspir...</td>\n",
              "    </tr>\n",
              "    <tr>\n",
              "      <th>1497</th>\n",
              "      <td>comer devolver caloría tengoundeseoyes perfeccion</td>\n",
              "    </tr>\n",
              "    <tr>\n",
              "      <th>1498</th>\n",
              "      <td>entender seguir soltero cocino masterchef demi...</td>\n",
              "    </tr>\n",
              "    <tr>\n",
              "      <th>1499</th>\n",
              "      <td>er lata coca cola light litro agua puro taza t...</td>\n",
              "    </tr>\n",
              "  </tbody>\n",
              "</table>\n",
              "<p>1500 rows × 1 columns</p>\n",
              "</div><br><label><b>dtype:</b> object</label>"
            ]
          },
          "metadata": {},
          "execution_count": 37
        }
      ],
      "source": [
        "X_text"
      ]
    },
    {
      "cell_type": "code",
      "execution_count": 38,
      "metadata": {
        "id": "gFJglfwaJPF4"
      },
      "outputs": [],
      "source": [
        "import xgboost as xgb\n",
        "from sklearn.linear_model import LogisticRegression as LR\n",
        "from sklearn.feature_extraction.text import TfidfVectorizer\n",
        "from sklearn.model_selection import train_test_split\n",
        "import numpy as np"
      ]
    },
    {
      "cell_type": "markdown",
      "metadata": {
        "id": "m2HhNBNyC7Xb"
      },
      "source": [
        "# Preparación de Datos"
      ]
    },
    {
      "cell_type": "code",
      "execution_count": 39,
      "metadata": {
        "colab": {
          "base_uri": "https://localhost:8080/"
        },
        "id": "iPuSF5mPZ3RR",
        "outputId": "4e6ad58b-7919-47a4-9ff9-32c1cab73aaa"
      },
      "outputs": [
        {
          "output_type": "stream",
          "name": "stdout",
          "text": [
            "Promedio de letras por tweet: 71.95\n"
          ]
        }
      ],
      "source": [
        "def preparar_datos(data):\n",
        "    \"\"\"\n",
        "    Función que realiza la preparación inicial del dataset:\n",
        "    - Calcula el promedio de letras por tweet.\n",
        "    - Convierte etiquetas 'control' y 'anorexia' en 0 y 1.\n",
        "    - Extrae las variables X (entrada) e y (etiqueta).\n",
        "\n",
        "    Parámetros:\n",
        "        data (DataFrame): DataFrame original con columnas 'clean_text_lemma' y 'class'.\n",
        "\n",
        "    Retorna:\n",
        "        X (DataFrame): Solo la columna 'clean_text_lemma'.\n",
        "        y (Series): Etiquetas codificadas como 0 y 1.\n",
        "    \"\"\"\n",
        "    avg_letters = data['clean_text_lemma'].apply(lambda x: len(str(x).replace(\" \", \"\"))).mean()\n",
        "    print(f\"Promedio de letras por tweet: {avg_letters:.2f}\")\n",
        "\n",
        "    data['class'] = data['class'].map({'control': 0, 'anorexia': 1})\n",
        "    y = data[\"class\"]\n",
        "    X = data[[\"clean_text_lemma\"]].copy()\n",
        "\n",
        "    return X, y\n",
        "\n",
        "X, y = preparar_datos(data)"
      ]
    },
    {
      "cell_type": "code",
      "execution_count": 40,
      "metadata": {
        "colab": {
          "base_uri": "https://localhost:8080/",
          "height": 424
        },
        "id": "jFUrssLmbZEw",
        "outputId": "aef61ed1-667c-42f3-b6dc-007b020f4120"
      },
      "outputs": [
        {
          "output_type": "execute_result",
          "data": {
            "text/plain": [
              "                                       clean_text_lemma\n",
              "0     cheesecakir saludable azúcar lactosa mermerlad...\n",
              "1                                         hastaloshueso\n",
              "2                  comida real clave sano delgado feliz\n",
              "3     cambio hora bajada temperatura destemplado rec...\n",
              "4                             tiempo sentir cuerpo frío\n",
              "...                                                 ...\n",
              "1495            desayuno sano ricocomidasán metodohappy\n",
              "1496  perfección sábado án abandona thinspo thinspir...\n",
              "1497  comer devolver caloría tengoundeseoyes perfeccion\n",
              "1498  entender seguir soltero cocino masterchef demi...\n",
              "1499  er lata coca cola light litro agua puro taza t...\n",
              "\n",
              "[1500 rows x 1 columns]"
            ],
            "text/html": [
              "\n",
              "  <div id=\"df-8707e689-f44b-4ffc-a403-b136a949cafc\" class=\"colab-df-container\">\n",
              "    <div>\n",
              "<style scoped>\n",
              "    .dataframe tbody tr th:only-of-type {\n",
              "        vertical-align: middle;\n",
              "    }\n",
              "\n",
              "    .dataframe tbody tr th {\n",
              "        vertical-align: top;\n",
              "    }\n",
              "\n",
              "    .dataframe thead th {\n",
              "        text-align: right;\n",
              "    }\n",
              "</style>\n",
              "<table border=\"1\" class=\"dataframe\">\n",
              "  <thead>\n",
              "    <tr style=\"text-align: right;\">\n",
              "      <th></th>\n",
              "      <th>clean_text_lemma</th>\n",
              "    </tr>\n",
              "  </thead>\n",
              "  <tbody>\n",
              "    <tr>\n",
              "      <th>0</th>\n",
              "      <td>cheesecakir saludable azúcar lactosa mermerlad...</td>\n",
              "    </tr>\n",
              "    <tr>\n",
              "      <th>1</th>\n",
              "      <td>hastaloshueso</td>\n",
              "    </tr>\n",
              "    <tr>\n",
              "      <th>2</th>\n",
              "      <td>comida real clave sano delgado feliz</td>\n",
              "    </tr>\n",
              "    <tr>\n",
              "      <th>3</th>\n",
              "      <td>cambio hora bajada temperatura destemplado rec...</td>\n",
              "    </tr>\n",
              "    <tr>\n",
              "      <th>4</th>\n",
              "      <td>tiempo sentir cuerpo frío</td>\n",
              "    </tr>\n",
              "    <tr>\n",
              "      <th>...</th>\n",
              "      <td>...</td>\n",
              "    </tr>\n",
              "    <tr>\n",
              "      <th>1495</th>\n",
              "      <td>desayuno sano ricocomidasán metodohappy</td>\n",
              "    </tr>\n",
              "    <tr>\n",
              "      <th>1496</th>\n",
              "      <td>perfección sábado án abandona thinspo thinspir...</td>\n",
              "    </tr>\n",
              "    <tr>\n",
              "      <th>1497</th>\n",
              "      <td>comer devolver caloría tengoundeseoyes perfeccion</td>\n",
              "    </tr>\n",
              "    <tr>\n",
              "      <th>1498</th>\n",
              "      <td>entender seguir soltero cocino masterchef demi...</td>\n",
              "    </tr>\n",
              "    <tr>\n",
              "      <th>1499</th>\n",
              "      <td>er lata coca cola light litro agua puro taza t...</td>\n",
              "    </tr>\n",
              "  </tbody>\n",
              "</table>\n",
              "<p>1500 rows × 1 columns</p>\n",
              "</div>\n",
              "    <div class=\"colab-df-buttons\">\n",
              "\n",
              "  <div class=\"colab-df-container\">\n",
              "    <button class=\"colab-df-convert\" onclick=\"convertToInteractive('df-8707e689-f44b-4ffc-a403-b136a949cafc')\"\n",
              "            title=\"Convert this dataframe to an interactive table.\"\n",
              "            style=\"display:none;\">\n",
              "\n",
              "  <svg xmlns=\"http://www.w3.org/2000/svg\" height=\"24px\" viewBox=\"0 -960 960 960\">\n",
              "    <path d=\"M120-120v-720h720v720H120Zm60-500h600v-160H180v160Zm220 220h160v-160H400v160Zm0 220h160v-160H400v160ZM180-400h160v-160H180v160Zm440 0h160v-160H620v160ZM180-180h160v-160H180v160Zm440 0h160v-160H620v160Z\"/>\n",
              "  </svg>\n",
              "    </button>\n",
              "\n",
              "  <style>\n",
              "    .colab-df-container {\n",
              "      display:flex;\n",
              "      gap: 12px;\n",
              "    }\n",
              "\n",
              "    .colab-df-convert {\n",
              "      background-color: #E8F0FE;\n",
              "      border: none;\n",
              "      border-radius: 50%;\n",
              "      cursor: pointer;\n",
              "      display: none;\n",
              "      fill: #1967D2;\n",
              "      height: 32px;\n",
              "      padding: 0 0 0 0;\n",
              "      width: 32px;\n",
              "    }\n",
              "\n",
              "    .colab-df-convert:hover {\n",
              "      background-color: #E2EBFA;\n",
              "      box-shadow: 0px 1px 2px rgba(60, 64, 67, 0.3), 0px 1px 3px 1px rgba(60, 64, 67, 0.15);\n",
              "      fill: #174EA6;\n",
              "    }\n",
              "\n",
              "    .colab-df-buttons div {\n",
              "      margin-bottom: 4px;\n",
              "    }\n",
              "\n",
              "    [theme=dark] .colab-df-convert {\n",
              "      background-color: #3B4455;\n",
              "      fill: #D2E3FC;\n",
              "    }\n",
              "\n",
              "    [theme=dark] .colab-df-convert:hover {\n",
              "      background-color: #434B5C;\n",
              "      box-shadow: 0px 1px 3px 1px rgba(0, 0, 0, 0.15);\n",
              "      filter: drop-shadow(0px 1px 2px rgba(0, 0, 0, 0.3));\n",
              "      fill: #FFFFFF;\n",
              "    }\n",
              "  </style>\n",
              "\n",
              "    <script>\n",
              "      const buttonEl =\n",
              "        document.querySelector('#df-8707e689-f44b-4ffc-a403-b136a949cafc button.colab-df-convert');\n",
              "      buttonEl.style.display =\n",
              "        google.colab.kernel.accessAllowed ? 'block' : 'none';\n",
              "\n",
              "      async function convertToInteractive(key) {\n",
              "        const element = document.querySelector('#df-8707e689-f44b-4ffc-a403-b136a949cafc');\n",
              "        const dataTable =\n",
              "          await google.colab.kernel.invokeFunction('convertToInteractive',\n",
              "                                                    [key], {});\n",
              "        if (!dataTable) return;\n",
              "\n",
              "        const docLinkHtml = 'Like what you see? Visit the ' +\n",
              "          '<a target=\"_blank\" href=https://colab.research.google.com/notebooks/data_table.ipynb>data table notebook</a>'\n",
              "          + ' to learn more about interactive tables.';\n",
              "        element.innerHTML = '';\n",
              "        dataTable['output_type'] = 'display_data';\n",
              "        await google.colab.output.renderOutput(dataTable, element);\n",
              "        const docLink = document.createElement('div');\n",
              "        docLink.innerHTML = docLinkHtml;\n",
              "        element.appendChild(docLink);\n",
              "      }\n",
              "    </script>\n",
              "  </div>\n",
              "\n",
              "\n",
              "    <div id=\"df-c5e34aa4-0df6-495f-88e6-bae23cdafce2\">\n",
              "      <button class=\"colab-df-quickchart\" onclick=\"quickchart('df-c5e34aa4-0df6-495f-88e6-bae23cdafce2')\"\n",
              "                title=\"Suggest charts\"\n",
              "                style=\"display:none;\">\n",
              "\n",
              "<svg xmlns=\"http://www.w3.org/2000/svg\" height=\"24px\"viewBox=\"0 0 24 24\"\n",
              "     width=\"24px\">\n",
              "    <g>\n",
              "        <path d=\"M19 3H5c-1.1 0-2 .9-2 2v14c0 1.1.9 2 2 2h14c1.1 0 2-.9 2-2V5c0-1.1-.9-2-2-2zM9 17H7v-7h2v7zm4 0h-2V7h2v10zm4 0h-2v-4h2v4z\"/>\n",
              "    </g>\n",
              "</svg>\n",
              "      </button>\n",
              "\n",
              "<style>\n",
              "  .colab-df-quickchart {\n",
              "      --bg-color: #E8F0FE;\n",
              "      --fill-color: #1967D2;\n",
              "      --hover-bg-color: #E2EBFA;\n",
              "      --hover-fill-color: #174EA6;\n",
              "      --disabled-fill-color: #AAA;\n",
              "      --disabled-bg-color: #DDD;\n",
              "  }\n",
              "\n",
              "  [theme=dark] .colab-df-quickchart {\n",
              "      --bg-color: #3B4455;\n",
              "      --fill-color: #D2E3FC;\n",
              "      --hover-bg-color: #434B5C;\n",
              "      --hover-fill-color: #FFFFFF;\n",
              "      --disabled-bg-color: #3B4455;\n",
              "      --disabled-fill-color: #666;\n",
              "  }\n",
              "\n",
              "  .colab-df-quickchart {\n",
              "    background-color: var(--bg-color);\n",
              "    border: none;\n",
              "    border-radius: 50%;\n",
              "    cursor: pointer;\n",
              "    display: none;\n",
              "    fill: var(--fill-color);\n",
              "    height: 32px;\n",
              "    padding: 0;\n",
              "    width: 32px;\n",
              "  }\n",
              "\n",
              "  .colab-df-quickchart:hover {\n",
              "    background-color: var(--hover-bg-color);\n",
              "    box-shadow: 0 1px 2px rgba(60, 64, 67, 0.3), 0 1px 3px 1px rgba(60, 64, 67, 0.15);\n",
              "    fill: var(--button-hover-fill-color);\n",
              "  }\n",
              "\n",
              "  .colab-df-quickchart-complete:disabled,\n",
              "  .colab-df-quickchart-complete:disabled:hover {\n",
              "    background-color: var(--disabled-bg-color);\n",
              "    fill: var(--disabled-fill-color);\n",
              "    box-shadow: none;\n",
              "  }\n",
              "\n",
              "  .colab-df-spinner {\n",
              "    border: 2px solid var(--fill-color);\n",
              "    border-color: transparent;\n",
              "    border-bottom-color: var(--fill-color);\n",
              "    animation:\n",
              "      spin 1s steps(1) infinite;\n",
              "  }\n",
              "\n",
              "  @keyframes spin {\n",
              "    0% {\n",
              "      border-color: transparent;\n",
              "      border-bottom-color: var(--fill-color);\n",
              "      border-left-color: var(--fill-color);\n",
              "    }\n",
              "    20% {\n",
              "      border-color: transparent;\n",
              "      border-left-color: var(--fill-color);\n",
              "      border-top-color: var(--fill-color);\n",
              "    }\n",
              "    30% {\n",
              "      border-color: transparent;\n",
              "      border-left-color: var(--fill-color);\n",
              "      border-top-color: var(--fill-color);\n",
              "      border-right-color: var(--fill-color);\n",
              "    }\n",
              "    40% {\n",
              "      border-color: transparent;\n",
              "      border-right-color: var(--fill-color);\n",
              "      border-top-color: var(--fill-color);\n",
              "    }\n",
              "    60% {\n",
              "      border-color: transparent;\n",
              "      border-right-color: var(--fill-color);\n",
              "    }\n",
              "    80% {\n",
              "      border-color: transparent;\n",
              "      border-right-color: var(--fill-color);\n",
              "      border-bottom-color: var(--fill-color);\n",
              "    }\n",
              "    90% {\n",
              "      border-color: transparent;\n",
              "      border-bottom-color: var(--fill-color);\n",
              "    }\n",
              "  }\n",
              "</style>\n",
              "\n",
              "      <script>\n",
              "        async function quickchart(key) {\n",
              "          const quickchartButtonEl =\n",
              "            document.querySelector('#' + key + ' button');\n",
              "          quickchartButtonEl.disabled = true;  // To prevent multiple clicks.\n",
              "          quickchartButtonEl.classList.add('colab-df-spinner');\n",
              "          try {\n",
              "            const charts = await google.colab.kernel.invokeFunction(\n",
              "                'suggestCharts', [key], {});\n",
              "          } catch (error) {\n",
              "            console.error('Error during call to suggestCharts:', error);\n",
              "          }\n",
              "          quickchartButtonEl.classList.remove('colab-df-spinner');\n",
              "          quickchartButtonEl.classList.add('colab-df-quickchart-complete');\n",
              "        }\n",
              "        (() => {\n",
              "          let quickchartButtonEl =\n",
              "            document.querySelector('#df-c5e34aa4-0df6-495f-88e6-bae23cdafce2 button');\n",
              "          quickchartButtonEl.style.display =\n",
              "            google.colab.kernel.accessAllowed ? 'block' : 'none';\n",
              "        })();\n",
              "      </script>\n",
              "    </div>\n",
              "\n",
              "  <div id=\"id_7683a35b-314d-4607-85d0-ab1b3bba74ba\">\n",
              "    <style>\n",
              "      .colab-df-generate {\n",
              "        background-color: #E8F0FE;\n",
              "        border: none;\n",
              "        border-radius: 50%;\n",
              "        cursor: pointer;\n",
              "        display: none;\n",
              "        fill: #1967D2;\n",
              "        height: 32px;\n",
              "        padding: 0 0 0 0;\n",
              "        width: 32px;\n",
              "      }\n",
              "\n",
              "      .colab-df-generate:hover {\n",
              "        background-color: #E2EBFA;\n",
              "        box-shadow: 0px 1px 2px rgba(60, 64, 67, 0.3), 0px 1px 3px 1px rgba(60, 64, 67, 0.15);\n",
              "        fill: #174EA6;\n",
              "      }\n",
              "\n",
              "      [theme=dark] .colab-df-generate {\n",
              "        background-color: #3B4455;\n",
              "        fill: #D2E3FC;\n",
              "      }\n",
              "\n",
              "      [theme=dark] .colab-df-generate:hover {\n",
              "        background-color: #434B5C;\n",
              "        box-shadow: 0px 1px 3px 1px rgba(0, 0, 0, 0.15);\n",
              "        filter: drop-shadow(0px 1px 2px rgba(0, 0, 0, 0.3));\n",
              "        fill: #FFFFFF;\n",
              "      }\n",
              "    </style>\n",
              "    <button class=\"colab-df-generate\" onclick=\"generateWithVariable('X')\"\n",
              "            title=\"Generate code using this dataframe.\"\n",
              "            style=\"display:none;\">\n",
              "\n",
              "  <svg xmlns=\"http://www.w3.org/2000/svg\" height=\"24px\"viewBox=\"0 0 24 24\"\n",
              "       width=\"24px\">\n",
              "    <path d=\"M7,19H8.4L18.45,9,17,7.55,7,17.6ZM5,21V16.75L18.45,3.32a2,2,0,0,1,2.83,0l1.4,1.43a1.91,1.91,0,0,1,.58,1.4,1.91,1.91,0,0,1-.58,1.4L9.25,21ZM18.45,9,17,7.55Zm-12,3A5.31,5.31,0,0,0,4.9,8.1,5.31,5.31,0,0,0,1,6.5,5.31,5.31,0,0,0,4.9,4.9,5.31,5.31,0,0,0,6.5,1,5.31,5.31,0,0,0,8.1,4.9,5.31,5.31,0,0,0,12,6.5,5.46,5.46,0,0,0,6.5,12Z\"/>\n",
              "  </svg>\n",
              "    </button>\n",
              "    <script>\n",
              "      (() => {\n",
              "      const buttonEl =\n",
              "        document.querySelector('#id_7683a35b-314d-4607-85d0-ab1b3bba74ba button.colab-df-generate');\n",
              "      buttonEl.style.display =\n",
              "        google.colab.kernel.accessAllowed ? 'block' : 'none';\n",
              "\n",
              "      buttonEl.onclick = () => {\n",
              "        google.colab.notebook.generateWithVariable('X');\n",
              "      }\n",
              "      })();\n",
              "    </script>\n",
              "  </div>\n",
              "\n",
              "    </div>\n",
              "  </div>\n"
            ],
            "application/vnd.google.colaboratory.intrinsic+json": {
              "type": "dataframe",
              "variable_name": "X",
              "summary": "{\n  \"name\": \"X\",\n  \"rows\": 1500,\n  \"fields\": [\n    {\n      \"column\": \"clean_text_lemma\",\n      \"properties\": {\n        \"dtype\": \"string\",\n        \"num_unique_values\": 1497,\n        \"samples\": [\n          \"tratar espacio gordo muslo \\u00e1n\",\n          \"jugar vida trastorno alimenticio enfermedad ser\\u00eda entra c\\u00edrculo dif\\u00edcil escapar tca ed quierete\",\n          \"cenar chicle chupar yo dedo\"\n        ],\n        \"semantic_type\": \"\",\n        \"description\": \"\"\n      }\n    }\n  ]\n}"
            }
          },
          "metadata": {},
          "execution_count": 40
        }
      ],
      "source": [
        "X"
      ]
    },
    {
      "cell_type": "code",
      "execution_count": 41,
      "metadata": {
        "colab": {
          "base_uri": "https://localhost:8080/",
          "height": 458
        },
        "id": "8DCPSRvObwOL",
        "outputId": "ccda5063-d0e8-4ce6-94f5-f4bb77bf91ac"
      },
      "outputs": [
        {
          "output_type": "execute_result",
          "data": {
            "text/plain": [
              "0       0\n",
              "1       1\n",
              "2       0\n",
              "3       0\n",
              "4       1\n",
              "       ..\n",
              "1495    0\n",
              "1496    1\n",
              "1497    1\n",
              "1498    0\n",
              "1499    1\n",
              "Name: class, Length: 1500, dtype: int64"
            ],
            "text/html": [
              "<div>\n",
              "<style scoped>\n",
              "    .dataframe tbody tr th:only-of-type {\n",
              "        vertical-align: middle;\n",
              "    }\n",
              "\n",
              "    .dataframe tbody tr th {\n",
              "        vertical-align: top;\n",
              "    }\n",
              "\n",
              "    .dataframe thead th {\n",
              "        text-align: right;\n",
              "    }\n",
              "</style>\n",
              "<table border=\"1\" class=\"dataframe\">\n",
              "  <thead>\n",
              "    <tr style=\"text-align: right;\">\n",
              "      <th></th>\n",
              "      <th>class</th>\n",
              "    </tr>\n",
              "  </thead>\n",
              "  <tbody>\n",
              "    <tr>\n",
              "      <th>0</th>\n",
              "      <td>0</td>\n",
              "    </tr>\n",
              "    <tr>\n",
              "      <th>1</th>\n",
              "      <td>1</td>\n",
              "    </tr>\n",
              "    <tr>\n",
              "      <th>2</th>\n",
              "      <td>0</td>\n",
              "    </tr>\n",
              "    <tr>\n",
              "      <th>3</th>\n",
              "      <td>0</td>\n",
              "    </tr>\n",
              "    <tr>\n",
              "      <th>4</th>\n",
              "      <td>1</td>\n",
              "    </tr>\n",
              "    <tr>\n",
              "      <th>...</th>\n",
              "      <td>...</td>\n",
              "    </tr>\n",
              "    <tr>\n",
              "      <th>1495</th>\n",
              "      <td>0</td>\n",
              "    </tr>\n",
              "    <tr>\n",
              "      <th>1496</th>\n",
              "      <td>1</td>\n",
              "    </tr>\n",
              "    <tr>\n",
              "      <th>1497</th>\n",
              "      <td>1</td>\n",
              "    </tr>\n",
              "    <tr>\n",
              "      <th>1498</th>\n",
              "      <td>0</td>\n",
              "    </tr>\n",
              "    <tr>\n",
              "      <th>1499</th>\n",
              "      <td>1</td>\n",
              "    </tr>\n",
              "  </tbody>\n",
              "</table>\n",
              "<p>1500 rows × 1 columns</p>\n",
              "</div><br><label><b>dtype:</b> int64</label>"
            ]
          },
          "metadata": {},
          "execution_count": 41
        }
      ],
      "source": [
        "y"
      ]
    },
    {
      "cell_type": "code",
      "source": [
        "from sklearn.model_selection import train_test_split\n",
        "X_train, X_test, y_train, y_test = train_test_split(X, y, test_size=0.2, random_state=42)"
      ],
      "metadata": {
        "id": "zVq5lLQ-KcCd"
      },
      "execution_count": 42,
      "outputs": []
    },
    {
      "cell_type": "code",
      "source": [
        "from transformers import AutoTokenizer\n",
        "\n",
        "tokenizer = AutoTokenizer.from_pretrained(\"dccuchile/bert-base-spanish-wwm-cased\")"
      ],
      "metadata": {
        "id": "ngjywJ7miK9N"
      },
      "execution_count": null,
      "outputs": []
    },
    {
      "cell_type": "code",
      "execution_count": 43,
      "metadata": {
        "id": "iJZ8ZRwQgza8"
      },
      "outputs": [],
      "source": [
        "train_encodings = tokenizer(\n",
        "    X_train[\"clean_text_lemma\"].tolist(), truncation=True, padding=True, max_length=128\n",
        ")\n",
        "val_encodings = tokenizer(\n",
        "    X_test[\"clean_text_lemma\"].tolist(), truncation=True, padding=True, max_length=128\n",
        ")\n"
      ]
    },
    {
      "cell_type": "code",
      "source": [
        "import torch\n",
        "\n",
        "class TweetDataset(torch.utils.data.Dataset):\n",
        "    def __init__(self, encodings, labels):\n",
        "        self.encodings = encodings\n",
        "        self.labels = labels\n",
        "    def __getitem__(self, idx):\n",
        "        item = {key: torch.tensor(val[idx]) for key, val in self.encodings.items()}\n",
        "        item[\"labels\"] = torch.tensor(self.labels[idx])\n",
        "        return item\n",
        "    def __len__(self):\n",
        "        return len(self.labels)\n",
        "\n",
        "# Usar y_train e y_test del split\n",
        "train_dataset = TweetDataset(train_encodings, y_train.tolist())\n",
        "val_dataset = TweetDataset(val_encodings, y_test.tolist())\n"
      ],
      "metadata": {
        "id": "6QS_HXUXJ6es"
      },
      "execution_count": 44,
      "outputs": []
    },
    {
      "cell_type": "code",
      "source": [
        "from transformers import TrainingArguments\n",
        "\n",
        "training_args = TrainingArguments(\n",
        "    output_dir=\"./results\",\n",
        "    per_device_train_batch_size=16,\n",
        "    per_device_eval_batch_size=16,\n",
        "    num_train_epochs=4,\n",
        "    weight_decay=0.01,\n",
        "    logging_dir=\"./logs\",\n",
        "    report_to=\"none\"\n",
        ")\n"
      ],
      "metadata": {
        "id": "gyVVHVWJLKup"
      },
      "execution_count": 56,
      "outputs": []
    },
    {
      "cell_type": "code",
      "source": [
        "from transformers import AutoModelForSequenceClassification\n",
        "\n",
        "# Modelo BETO para clasificación binaria\n",
        "model = AutoModelForSequenceClassification.from_pretrained(\n",
        "    \"dccuchile/bert-base-spanish-wwm-cased\",\n",
        "    num_labels=2\n",
        ")"
      ],
      "metadata": {
        "id": "hM0LZwlAno-a"
      },
      "execution_count": null,
      "outputs": []
    },
    {
      "cell_type": "code",
      "source": [
        "from transformers import Trainer\n",
        "\n",
        "trainer = Trainer(\n",
        "    model=model,\n",
        "    args=training_args,\n",
        "    train_dataset=train_dataset,\n",
        "    eval_dataset=val_dataset\n",
        ")\n",
        "\n",
        "trainer.train()\n"
      ],
      "metadata": {
        "colab": {
          "base_uri": "https://localhost:8080/",
          "height": 93
        },
        "id": "gbxH7-HMMvB8",
        "outputId": "fce3d2d0-18d3-415f-e83d-9fb2aa6f9262"
      },
      "execution_count": 57,
      "outputs": [
        {
          "output_type": "display_data",
          "data": {
            "text/plain": [
              "<IPython.core.display.HTML object>"
            ],
            "text/html": [
              "\n",
              "    <div>\n",
              "      \n",
              "      <progress value='300' max='300' style='width:300px; height:20px; vertical-align: middle;'></progress>\n",
              "      [300/300 1:22:29, Epoch 4/4]\n",
              "    </div>\n",
              "    <table border=\"1\" class=\"dataframe\">\n",
              "  <thead>\n",
              " <tr style=\"text-align: left;\">\n",
              "      <th>Step</th>\n",
              "      <th>Training Loss</th>\n",
              "    </tr>\n",
              "  </thead>\n",
              "  <tbody>\n",
              "  </tbody>\n",
              "</table><p>"
            ]
          },
          "metadata": {}
        },
        {
          "output_type": "execute_result",
          "data": {
            "text/plain": [
              "TrainOutput(global_step=300, training_loss=0.21744046529134115, metrics={'train_runtime': 4970.4017, 'train_samples_per_second': 0.966, 'train_steps_per_second': 0.06, 'total_flos': 224466619104000.0, 'train_loss': 0.21744046529134115, 'epoch': 4.0})"
            ]
          },
          "metadata": {},
          "execution_count": 57
        }
      ]
    },
    {
      "cell_type": "code",
      "source": [
        "trainer.evaluate()"
      ],
      "metadata": {
        "colab": {
          "base_uri": "https://localhost:8080/",
          "height": 124
        },
        "id": "IIGJd8lOMv73",
        "outputId": "663a1d75-171b-4f90-eb06-99fe4e813e54"
      },
      "execution_count": 58,
      "outputs": [
        {
          "output_type": "display_data",
          "data": {
            "text/plain": [
              "<IPython.core.display.HTML object>"
            ],
            "text/html": [
              "\n",
              "    <div>\n",
              "      \n",
              "      <progress value='19' max='19' style='width:300px; height:20px; vertical-align: middle;'></progress>\n",
              "      [19/19 01:06]\n",
              "    </div>\n",
              "    "
            ]
          },
          "metadata": {}
        },
        {
          "output_type": "execute_result",
          "data": {
            "text/plain": [
              "{'eval_loss': 0.34482356905937195,\n",
              " 'eval_runtime': 70.3885,\n",
              " 'eval_samples_per_second': 4.262,\n",
              " 'eval_steps_per_second': 0.27,\n",
              " 'epoch': 4.0}"
            ]
          },
          "metadata": {},
          "execution_count": 58
        }
      ]
    },
    {
      "cell_type": "code",
      "source": [
        "predictions = trainer.predict(val_dataset)\n",
        "pred_labels = predictions.predictions.argmax(axis=-1)\n"
      ],
      "metadata": {
        "colab": {
          "base_uri": "https://localhost:8080/",
          "height": 17
        },
        "id": "OWpjYw91MxRk",
        "outputId": "e36e0199-7b85-4d3f-ba09-9c066a6e8508"
      },
      "execution_count": 59,
      "outputs": [
        {
          "output_type": "display_data",
          "data": {
            "text/plain": [
              "<IPython.core.display.HTML object>"
            ],
            "text/html": []
          },
          "metadata": {}
        }
      ]
    },
    {
      "cell_type": "code",
      "source": [
        "from sklearn.metrics import classification_report, confusion_matrix, ConfusionMatrixDisplay\n",
        "\n",
        "print(classification_report(y_test, pred_labels, target_names=[\"anorexia\", \"control\"]))\n",
        "\n",
        "cm = confusion_matrix(y_test, pred_labels)\n",
        "disp = ConfusionMatrixDisplay(confusion_matrix=cm, display_labels=[\"anorexia\", \"control\"])\n",
        "disp.plot(cmap=\"Blues\")\n"
      ],
      "metadata": {
        "colab": {
          "base_uri": "https://localhost:8080/",
          "height": 623
        },
        "id": "YPbumR5pMy18",
        "outputId": "a57e373f-c5c1-4af1-a704-87df11b4efa2"
      },
      "execution_count": 60,
      "outputs": [
        {
          "output_type": "stream",
          "name": "stdout",
          "text": [
            "              precision    recall  f1-score   support\n",
            "\n",
            "    anorexia       0.91      0.90      0.91       141\n",
            "     control       0.91      0.92      0.92       159\n",
            "\n",
            "    accuracy                           0.91       300\n",
            "   macro avg       0.91      0.91      0.91       300\n",
            "weighted avg       0.91      0.91      0.91       300\n",
            "\n"
          ]
        },
        {
          "output_type": "execute_result",
          "data": {
            "text/plain": [
              "<sklearn.metrics._plot.confusion_matrix.ConfusionMatrixDisplay at 0x7c9ad26c0390>"
            ]
          },
          "metadata": {},
          "execution_count": 60
        },
        {
          "output_type": "display_data",
          "data": {
            "text/plain": [
              "<Figure size 640x480 with 2 Axes>"
            ],
            "image/png": "[encoded data removed]"
          },
          "metadata": {}
        }
      ]
    },
    {
      "cell_type": "code",
      "source": [
        "from sklearn.metrics import (\n",
        "    roc_auc_score,\n",
        "    roc_curve,\n",
        "    classification_report,\n",
        "    confusion_matrix,\n",
        "    ConfusionMatrixDisplay\n",
        ")\n",
        "import matplotlib.pyplot as plt\n",
        "\n",
        "# === Obtener etiquetas verdaderas y probabilidades de clase positiva (control)\n",
        "y_true = y_test  # o val_labels\n",
        "y_scores = predictions.predictions[:, 1]  # Probabilidad estimada para clase 1 = \"control\"\n",
        "\n",
        "# === Calcular AUC y curva ROC\n",
        "auc = roc_auc_score(y_true, y_scores)\n",
        "fpr, tpr, thresholds = roc_curve(y_true, y_scores)\n",
        "\n",
        "# === Mostrar AUC\n",
        "print(f\"AUC-ROC: {auc:.4f}\")\n",
        "\n",
        "# === Gráfica ROC\n",
        "plt.figure(figsize=(6, 5))\n",
        "plt.plot(fpr, tpr, color=\"darkorange\", lw=2, label=f\"ROC curve (AUC = {auc:.2f})\")\n",
        "plt.plot([0, 1], [0, 1], color=\"gray\", lw=1, linestyle=\"--\")\n",
        "plt.xlabel(\"Tasa de Falsos Positivos (FPR)\")\n",
        "plt.ylabel(\"Tasa de Verdaderos Positivos (TPR)\")\n",
        "plt.title(\"Curva ROC\")\n",
        "plt.legend(loc=\"lower right\")\n",
        "plt.grid(True)\n",
        "plt.tight_layout()\n",
        "plt.show()\n"
      ],
      "metadata": {
        "colab": {
          "base_uri": "https://localhost:8080/",
          "height": 524
        },
        "id": "L3AkjovFihah",
        "outputId": "e9f6d62b-cfe5-4db6-c861-691efae24634"
      },
      "execution_count": 64,
      "outputs": [
        {
          "output_type": "stream",
          "name": "stdout",
          "text": [
            "AUC-ROC: 0.9738\n"
          ]
        },
        {
          "output_type": "display_data",
          "data": {
            "text/plain": [
              "<Figure size 600x500 with 1 Axes>"
            ],
            "image/png": "[encoded data removed]"
          },
          "metadata": {}
        }
      ]
    },
    {
      "cell_type": "code",
      "source": [
        "# Guardar modelo y tokenizer en una carpeta local\n",
        "output_dir = \"./modelo_beto_anorexia\"\n",
        "\n",
        "trainer.save_model(output_dir)  # Guarda el modelo y los pesos\n",
        "tokenizer.save_pretrained(output_dir)  # Guarda el tokenizer\n",
        "\n",
        "print(\"Modelo y tokenizer guardados en:\", output_dir)"
      ],
      "metadata": {
        "colab": {
          "base_uri": "https://localhost:8080/"
        },
        "id": "jxIWWtUajIlw",
        "outputId": "729faab6-1557-4052-d39c-aa15a5e6095a"
      },
      "execution_count": 65,
      "outputs": [
        {
          "output_type": "stream",
          "name": "stdout",
          "text": [
            "Modelo y tokenizer guardados en: ./modelo_beto_anorexia\n"
          ]
        }
      ]
    },
    {
      "cell_type": "markdown",
      "source": [],
      "metadata": {
        "id": "9ustIba2jK-k"
      }
    },
    {
      "cell_type": "code",
      "execution_count": null,
      "metadata": {
        "id": "cGkbpFpVt-NT"
      },
      "outputs": [],
      "source": [
        "X_final_csr = X_final.tocsr()"
      ]
    },
    {
      "cell_type": "code",
      "execution_count": null,
      "metadata": {
        "id": "_OJWbjiuuAHH"
      },
      "outputs": [],
      "source": [
        "print(X_final_csr[:5].toarray())"
      ]
    },
    {
      "cell_type": "markdown",
      "metadata": {
        "id": "pIAIEOrODHtz"
      },
      "source": [
        "# Separación de datos"
      ]
    },
    {
      "cell_type": "code",
      "execution_count": null,
      "metadata": {
        "id": "kn-hYyCqt5tG"
      },
      "outputs": [],
      "source": [
        "from sklearn.model_selection import train_test_split\n",
        "X_train, X_test, y_train, y_test = train_test_split(X_final, y, test_size=0.2, random_state=42)"
      ]
    },
    {
      "cell_type": "markdown",
      "metadata": {
        "id": "AbFwynKSDSe8"
      },
      "source": [
        "# Búsqueda de Hiperparámetros y Entrenamiento con Best Model"
      ]
    },
    {
      "cell_type": "code",
      "execution_count": null,
      "metadata": {
        "id": "4J9Z7TDDt6Pf"
      },
      "outputs": [],
      "source": [
        "from sklearn.linear_model import LogisticRegression\n",
        "from sklearn.model_selection import GridSearchCV, KFold\n",
        "from sklearn.metrics import make_scorer, f1_score\n",
        "\n",
        "# Modelo base\n",
        "clf = LogisticRegression(\n",
        "    solver='liblinear',     # compatible con l1 y l2\n",
        "    max_iter=1000,\n",
        "    random_state=42\n",
        ")\n",
        "\n",
        "# Rejilla de hiperparámetros\n",
        "param_grid = {\n",
        "    'penalty': ['l1', 'l2'],                 # regularización L1 o L2\n",
        "    'C': [0.01, 0.1, 1, 10, 100]             # fuerza de la regularización (inversa)\n",
        "}\n",
        "\n",
        "# Validación cruzada con KFold\n",
        "cv = KFold(n_splits=5, shuffle=True, random_state=42)\n",
        "\n",
        "# GridSearchCV\n",
        "grid_search = GridSearchCV(\n",
        "    estimator=clf,\n",
        "    param_grid=param_grid,\n",
        "    scoring=make_scorer(f1_score),\n",
        "    cv=cv,\n",
        "    verbose=1,\n",
        "    n_jobs=-1\n",
        ")\n",
        "\n",
        "# Entrenamiento\n",
        "grid_search.fit(X_train, y_train)\n",
        "\n",
        "# Resultados\n",
        "print(\"Mejores hiperparámetros:\", grid_search.best_params_)\n",
        "best_model = grid_search.best_estimator_\n"
      ]
    },
    {
      "cell_type": "code",
      "execution_count": null,
      "metadata": {
        "id": "dzhTGyzf2FW8"
      },
      "outputs": [],
      "source": [
        "print(\"Mejores hiperparámetros:\", grid_search.best_params_)"
      ]
    },
    {
      "cell_type": "code",
      "execution_count": null,
      "metadata": {
        "id": "kic9AllG2ILt"
      },
      "outputs": [],
      "source": [
        "best_model = grid_search.best_estimator_"
      ]
    },
    {
      "cell_type": "markdown",
      "source": [
        "# Entrenamiento manual"
      ],
      "metadata": {
        "id": "pGUQYWDqlCGI"
      }
    },
    {
      "cell_type": "code",
      "source": [
        "from sklearn.linear_model import LogisticRegression\n",
        "\n",
        "clf = LogisticRegression(\n",
        "    C=1,\n",
        "    penalty='l2',\n",
        "    solver='liblinear',\n",
        "    max_iter=1000,\n",
        "    random_state=42\n",
        ")\n",
        "\n",
        "clf.fit(X_train, y_train)\n"
      ],
      "metadata": {
        "id": "KCy0fDeQgFQY"
      },
      "execution_count": null,
      "outputs": []
    },
    {
      "cell_type": "markdown",
      "metadata": {
        "id": "qk85M8uKDYpa"
      },
      "source": [
        "# Métricas de Evaluación"
      ]
    },
    {
      "cell_type": "code",
      "source": [
        "import matplotlib.pyplot as plt\n",
        "from sklearn.metrics import (\n",
        "    roc_auc_score,\n",
        "    roc_curve,\n",
        "    classification_report,\n",
        "    confusion_matrix,\n",
        "    ConfusionMatrixDisplay\n",
        ")\n",
        "import seaborn as sns\n",
        "\n",
        "def evaluar_modelo_con_graficas(clf, X_test, y_test):\n",
        "    \"\"\"\n",
        "    Función que evalúa el modelo:\n",
        "    - AUC\n",
        "    - Reporte de clasificación\n",
        "    - Matriz de confusión\n",
        "    - Curva ROC\n",
        "\n",
        "    Parámetros:\n",
        "    - clf: modelo entrenado\n",
        "    - X_test: features de prueba\n",
        "    - y_test: etiquetas verdaderas\n",
        "    \"\"\"\n",
        "\n",
        "    y_pred = clf.predict(X_test)\n",
        "    y_prob = clf.predict_proba(X_test)[:, 1]\n",
        "\n",
        "    auc = roc_auc_score(y_test, y_prob)\n",
        "    print(f\"AUC: {auc:.4f}\")\n",
        "\n",
        "    print(\"\\nClassification Report:\")\n",
        "    print(classification_report(y_test, y_pred, target_names=[\"control\", \"anorexia\"]))\n",
        "\n",
        "    conf_matrix = confusion_matrix(y_test, y_pred)\n",
        "    disp = ConfusionMatrixDisplay(conf_matrix, display_labels=[\"control\", \"anorexia\"])\n",
        "    disp.plot(cmap=\"Blues\")\n",
        "    plt.title(\"Matriz de Confusión\")\n",
        "    plt.show()\n",
        "\n",
        "    fpr, tpr, _ = roc_curve(y_test, y_prob)\n",
        "    plt.figure()\n",
        "    plt.plot(fpr, tpr, color='darkorange', lw=2, label=f\"ROC curve (AUC = {auc:.2f})\")\n",
        "    plt.plot([0, 1], [0, 1], color='gray', linestyle='--')\n",
        "    plt.xlabel('Tasa de Falsos Positivos (FPR)')\n",
        "    plt.ylabel('Tasa de Verdaderos Positivos (TPR)')\n",
        "    plt.title('Curva ROC')\n",
        "    plt.legend(loc=\"lower right\")\n",
        "    plt.grid(True)\n",
        "    plt.show()\n",
        "\n",
        "evaluar_modelo_con_graficas(clf, X_test, y_test)"
      ],
      "metadata": {
        "id": "zCbt8ZyajdZI"
      },
      "execution_count": null,
      "outputs": []
    },
    {
      "cell_type": "markdown",
      "source": [
        "# Test con datos nuevos"
      ],
      "metadata": {
        "id": "1_R2kECb0Skx"
      }
    },
    {
      "cell_type": "code",
      "source": [
        "import pandas as pd\n",
        "\n",
        "test_fold1 = pd.read_csv(\"/content/data_test_fold1 - anorexia(in).csv\")"
      ],
      "metadata": {
        "id": "6S20EDtT0V-0"
      },
      "execution_count": null,
      "outputs": []
    },
    {
      "cell_type": "code",
      "source": [
        "test_fold1[\"clean_text_lemma\"] = test_fold1[\"tweet_text\"].apply(clean_text_lemmatization)"
      ],
      "metadata": {
        "id": "k-cYXsZI0e4P"
      },
      "execution_count": null,
      "outputs": []
    },
    {
      "cell_type": "code",
      "source": [
        "test_fold1.head()"
      ],
      "metadata": {
        "id": "9gpzyFWa1-TY"
      },
      "execution_count": null,
      "outputs": []
    },
    {
      "cell_type": "code",
      "source": [
        "X_f1, y_f1 = preparar_datos(test_fold1)"
      ],
      "metadata": {
        "id": "hlsO84-Y13Gn"
      },
      "execution_count": null,
      "outputs": []
    },
    {
      "cell_type": "code",
      "source": [
        "X_f1"
      ],
      "metadata": {
        "id": "PSSa3wfh2axT"
      },
      "execution_count": null,
      "outputs": []
    },
    {
      "cell_type": "code",
      "source": [
        "y_f1"
      ],
      "metadata": {
        "id": "f4zDixrX2eP6"
      },
      "execution_count": null,
      "outputs": []
    },
    {
      "cell_type": "code",
      "source": [
        "sentiment_scores = X_f1[\"clean_text_lemma\"].apply(lambda text: TextBlob(str(text)).sentiment.polarity)\n",
        "sentiment_scores = sentiment_scores.apply(lambda x: (x + 1) / 2) * 3\n",
        "\n",
        "X_tfidf_f1 = vectorizer.transform(X_f1[\"clean_text_lemma\"])\n",
        "X_f1_final = hstack([X_tfidf_f1, np.array(sentiment_scores).reshape(-1, 1)])"
      ],
      "metadata": {
        "id": "5Y8kH1z_3PMJ"
      },
      "execution_count": null,
      "outputs": []
    },
    {
      "cell_type": "code",
      "source": [
        "evaluar_modelo_con_graficas(clf, X_f1_final, y_f1)"
      ],
      "metadata": {
        "id": "_9XJZNEj3nfK"
      },
      "execution_count": null,
      "outputs": []
    },
    {
      "cell_type": "markdown",
      "metadata": {
        "id": "Oj_5l2MB8Tzp"
      },
      "source": [
        "# Pruebas Unitarias"
      ]
    },
    {
      "cell_type": "markdown",
      "metadata": {
        "id": "xFDNxx4i-P53"
      },
      "source": [
        "Para garantizar la funcionalidad, confiabilidad y calidad del código desarrollado para el procesamiento y modelado de texto, se implementaron pruebas unitarias"
      ]
    },
    {
      "cell_type": "code",
      "execution_count": null,
      "metadata": {
        "id": "nP-fgQw6Pqr7"
      },
      "outputs": [],
      "source": [
        "import unittest\n",
        "\n",
        "\n",
        "class TestCleanText(unittest.TestCase):\n",
        "\n",
        "    def test_quitar_url(self):\n",
        "        self.assertNotIn(\"http\", clean_text_lemmatization(\"visita https://ejemplo.com\"))\n",
        "\n",
        "    def test_lower(self):\n",
        "        result = clean_text_lemmatization(\"HOLA MUNDO\")\n",
        "        self.assertEqual(result, result.lower())\n",
        "\n",
        "    def test_sin_puntuacion(self):\n",
        "        result = clean_text_lemmatization(\"¡Hola, mundo!\")\n",
        "        self.assertNotIn(\"¡\", result)\n",
        "        self.assertNotIn(\",\", result)\n",
        "\n",
        "    def test_lemmatizacion(self):\n",
        "        result = clean_text_lemmatization(\"Estoy corriendo al parque\")\n",
        "        self.assertIn(\"correr\", result)\n",
        "\n",
        "    def test_stopwords_fuera(self):\n",
        "        result = clean_text_lemmatization(\"Ella es la mejor\")\n",
        "        self.assertNotIn(\"ella\" or \"es\" or \"la\", result)\n",
        "\n",
        "    def test_hashtags(self):\n",
        "        result = clean_text_lemmatization(\"Estoy #Motivado\")\n",
        "        self.assertIn(\"motivado\", result)\n",
        "        self.assertNotIn(\"#\", result)\n",
        "\n",
        "    def test_entrada_numerica(self):\n",
        "        result = clean_text_lemmatization(123456)\n",
        "        self.assertEqual(result, \"\")\n",
        "\n",
        "    def test_espacios(self):\n",
        "        result = clean_text_lemmatization(\"   hola     mundo    \")\n",
        "        self.assertNotIn(\"  \", result)\n",
        "\n",
        "unittest.main(argv=[''], verbosity=2, exit=False)\n"
      ]
    },
    {
      "cell_type": "code",
      "execution_count": null,
      "metadata": {
        "id": "Zn_uxKaXeQY3"
      },
      "outputs": [],
      "source": [
        "class TestPrepararDatos(unittest.TestCase):\n",
        "\n",
        "    def setUp(self):\n",
        "        self.data = pd.DataFrame({\n",
        "            'clean_text_lemma': ['me gusta comer', 'comer poco adelgazar', 'feliz adelgazar comer sano'],\n",
        "            'class': ['control', 'anorexia', 'anorexia']\n",
        "        })\n",
        "\n",
        "    def test_map_clases_correctamente(self):\n",
        "        _, y = preparar_datos(self.data.copy())\n",
        "        self.assertListEqual(sorted(y.dropna().unique().tolist()), [0, 1])\n",
        "\n",
        "    def test_output_formato_correcto(self):\n",
        "        X, y = preparar_datos(self.data.copy())\n",
        "        self.assertTrue(isinstance(X, pd.DataFrame))\n",
        "        self.assertTrue(isinstance(y, pd.Series))\n",
        "        self.assertEqual(X.shape[0], 3)\n",
        "        self.assertEqual(y.shape[0], 3)\n",
        "        self.assertIn('clean_text_lemma', X.columns)\n",
        "\n",
        "    def test_promedio_letras(self):\n",
        "      data_2 = self.data.copy()\n",
        "      letras_esperadas = data_2['clean_text_lemma'].apply(lambda x: len(str(x).replace(\" \", \"\"))).mean()\n",
        "      preparar_datos(data_2)\n",
        "      letras_obtenidas = data_2['clean_text_lemma'].apply(lambda x: len(str(x).replace(\" \", \"\"))).mean()\n",
        "      self.assertAlmostEqual(letras_obtenidas, letras_esperadas, places=2)\n",
        "\n",
        "\n",
        "unittest.main(argv=[''], verbosity=2, exit=False)"
      ]
    },
    {
      "cell_type": "code",
      "execution_count": null,
      "metadata": {
        "id": "L8C_4bTSin9N"
      },
      "outputs": [],
      "source": [
        "from numpy import ndarray\n",
        "\n",
        "class TestVectorizarConSentimiento(unittest.TestCase):\n",
        "\n",
        "    def setUp(self):\n",
        "        self.X_text = pd.Series([\n",
        "            \"comer sano feliz\",\n",
        "            \"odio mi cuerpo\",\n",
        "            \"me siento normal\"\n",
        "        ])\n",
        "\n",
        "    def test_vectorizer_devuelto(self):\n",
        "        _, vectorizer = vectorizar_con_sentimiento(self.X_text)\n",
        "        self.assertIsNotNone(vectorizer)\n",
        "        self.assertTrue(hasattr(vectorizer, 'transform'))\n",
        "\n",
        "        def test_sentimiento_amplificado(self): # Se Transforma el X para que se\n",
        "          X_final_amp, _ = vectorizar_con_sentimiento(self.X_text, amplify_sentiment=True)\n",
        "          X_final_std, _ = vectorizar_con_sentimiento(self.X_text, amplify_sentiment=False)\n",
        "\n",
        "          X_final_amp = X_final_amp.tocsr()\n",
        "          X_final_std = X_final_std.tocsr()\n",
        "\n",
        "          col_amp = X_final_amp[:, -1].toarray()\n",
        "          col_std = X_final_std[:, -1].toarray()\n",
        "\n",
        "          self.assertTrue((col_amp > col_std).all())\n",
        "\n",
        "\n",
        "    def test_dimensiones_correctas(self):\n",
        "        X_final, vectorizer = vectorizar_con_sentimiento(self.X_text, max_features=10)\n",
        "        self.assertEqual(X_final.shape[0], 3)\n",
        "        self.assertEqual(X_final.shape[1], 11)\n",
        "\n",
        "\n",
        "unittest.main(argv=[''], verbosity=2, exit=False)"
      ]
    },
    {
      "cell_type": "code",
      "source": [
        "import warnings\n",
        "from sklearn.datasets import make_classification\n",
        "\n",
        "warnings.filterwarnings(\"ignore\")\n",
        "\n",
        "class TestEvaluacionModelo(unittest.TestCase):\n",
        "\n",
        "    @classmethod\n",
        "    def setUpClass(cls):\n",
        "        X, y = make_classification(\n",
        "            n_samples=200,\n",
        "            n_features=20,\n",
        "            n_informative=10,\n",
        "            n_redundant=5,\n",
        "            random_state=42\n",
        "        )\n",
        "        cls.X_train, cls.X_test, cls.y_train, cls.y_test = train_test_split(\n",
        "            X, y, test_size=0.3, random_state=42\n",
        "        )\n",
        "\n",
        "        cls.clf = XGBClassifier(use_label_encoder=False, eval_metric=\"logloss\", random_state=42)\n",
        "        cls.clf.fit(cls.X_train, cls.y_train)\n",
        "\n",
        "\n",
        "    def test_predicciones_no_nulas(self):\n",
        "        y_pred = self.clf.predict(self.X_test)\n",
        "        self.assertEqual(len(y_pred), len(self.y_test))\n",
        "        self.assertIn(y_pred[0], [0, 1])\n",
        "\n",
        "    def test_probabilidades_validas(self):\n",
        "        y_prob = self.clf.predict_proba(self.X_test)\n",
        "        self.assertEqual(y_prob.shape[1], 2)\n",
        "        self.assertTrue((y_prob >= 0).all() and (y_prob <= 1).all())\n",
        "\n",
        "    def test_funcion_evaluacion_sin_error(self):\n",
        "        try:\n",
        "            evaluar_modelo_con_graficas(self.clf, self.X_test, self.y_test)\n",
        "        except Exception as e:\n",
        "            self.fail(f\"La función evaluar_modelo_con_graficas lanzó un error inesperado: {e}\")\n",
        "\n",
        "if __name__ == \"__main__\":\n",
        "    unittest.main(argv=[''], verbosity=2, exit=False)\n"
      ],
      "metadata": {
        "id": "AJhxG_G4sNwZ"
      },
      "execution_count": null,
      "outputs": []
    }
  ],
  "metadata": {
    "colab": {
      "provenance": []
    },
    "kernelspec": {
      "display_name": "Python 3",
      "name": "python3"
    },
    "language_info": {
      "name": "python"
    }
  },
  "nbformat": 4,
  "nbformat_minor": 0
}